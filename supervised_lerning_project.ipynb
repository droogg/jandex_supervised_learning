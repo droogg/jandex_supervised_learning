{
 "cells": [
  {
   "cell_type": "markdown",
   "metadata": {
    "toc": true
   },
   "source": [
    "<h1>Содержание<span class=\"tocSkip\"></span></h1>\n",
    "<div class=\"toc\"><ul class=\"toc-item\"><li><span><a href=\"#Подготовка-данных\" data-toc-modified-id=\"Подготовка-данных-1\"><span class=\"toc-item-num\">1&nbsp;&nbsp;</span>Подготовка данных</a></span></li><li><span><a href=\"#Исследование-задачи\" data-toc-modified-id=\"Исследование-задачи-2\"><span class=\"toc-item-num\">2&nbsp;&nbsp;</span>Исследование задачи</a></span></li><li><span><a href=\"#Борьба-с-дисбалансом\" data-toc-modified-id=\"Борьба-с-дисбалансом-3\"><span class=\"toc-item-num\">3&nbsp;&nbsp;</span>Борьба с дисбалансом</a></span></li><li><span><a href=\"#Тестирование-модели\" data-toc-modified-id=\"Тестирование-модели-4\"><span class=\"toc-item-num\">4&nbsp;&nbsp;</span>Тестирование модели</a></span></li><li><span><a href=\"#Чек-лист-готовности-проекта\" data-toc-modified-id=\"Чек-лист-готовности-проекта-5\"><span class=\"toc-item-num\">5&nbsp;&nbsp;</span>Чек-лист готовности проекта</a></span></li></ul></div>"
   ]
  },
  {
   "cell_type": "markdown",
   "metadata": {},
   "source": [
    "# Отток клиентов"
   ]
  },
  {
   "cell_type": "markdown",
   "metadata": {},
   "source": [
    "Из «Бета-Банка» стали уходить клиенты. Каждый месяц. Немного, но заметно. Банковские маркетологи посчитали: сохранять текущих клиентов дешевле, чем привлекать новых.\n",
    "\n",
    "Нужно спрогнозировать, уйдёт клиент из банка в ближайшее время или нет. Вам предоставлены исторические данные о поведении клиентов и расторжении договоров с банком. \n",
    "\n",
    "Постройте модель с предельно большим значением *F1*-меры. Чтобы сдать проект успешно, нужно довести метрику до 0.59. Проверьте *F1*-меру на тестовой выборке самостоятельно.\n",
    "\n",
    "Дополнительно измеряйте *AUC-ROC*, сравнивайте её значение с *F1*-мерой.\n",
    "\n",
    "Источник данных: [https://www.kaggle.com/barelydedicated/bank-customer-churn-modeling](https://www.kaggle.com/barelydedicated/bank-customer-churn-modeling)"
   ]
  },
  {
   "cell_type": "markdown",
   "metadata": {},
   "source": [
    "## Подготовка данных"
   ]
  },
  {
   "cell_type": "markdown",
   "metadata": {},
   "source": [
    "---\n",
    "В ходе первичного ознакомления и дальнейшего анализа данных необходимо:\n",
    "- загрузить и визуально оценить состав данных на примере нескольких семплов;\n",
    "- посмотреть общую сводную информацию по набору данных: тип колонок, количество элементов и наличие пропусков и т.п.;\n",
    "- оценить статистические параметры выборки;\n",
    "- исследовать выбросы и аномальные значения\n",
    "- исследовать на наличие явных/неявных дубликатов;\n",
    "- оценить признаки и их взаимное влияние друг на друга;\n",
    "- оценить сбалансированность выборки.\n",
    "\n",
    "В этом же разделе, после оценки данных и ознакомления с ними:\n",
    "- очистим данные при необходимости;\n",
    "- удалим ненужные, по нашему мнению, колонки данных;\n",
    "- закодируем методом OHE категориальные колонки; \n",
    "- разделим на обучающую и тестовую выборки;\n",
    "- обучим scaler и imputer, заполним пропуски и отмасштабируем данные.\n",
    "\n",
    "После этих процедур можно переходить к обучению и оценки различных моделей."
   ]
  },
  {
   "cell_type": "code",
   "execution_count": 18,
   "metadata": {},
   "outputs": [],
   "source": [
    "# нужно апгрейднуть библиотеку, низкая версия, в которой нет IterativeImputer\n",
    "# !pip install scikit-learn -U"
   ]
  },
  {
   "cell_type": "code",
   "execution_count": 19,
   "metadata": {},
   "outputs": [
    {
     "data": {
      "text/plain": [
       "'1.4.1.post1'"
      ]
     },
     "execution_count": 19,
     "metadata": {},
     "output_type": "execute_result"
    }
   ],
   "source": [
    "import sklearn\n",
    "sklearn.__version__"
   ]
  },
  {
   "cell_type": "code",
   "execution_count": 16,
   "metadata": {},
   "outputs": [],
   "source": [
    "import pandas as pd\n",
    "import matplotlib.pyplot as plt\n",
    "import seaborn as sns\n",
    "# import sklearn\n",
    "\n",
    "from sklearn.experimental import enable_iterative_imputer\n",
    "\n",
    "from sklearn.pipeline import Pipeline\n",
    "# from sklearn.impute import SimpleImputer, IterativeImputer\n",
    "from sklearn.impute import IterativeImputer\n",
    "from sklearn.preprocessing import OneHotEncoder\n",
    "from sklearn.compose import ColumnTransformer\n",
    "# from sklearn.preprocessing import PolynomialFeatures\n",
    "from sklearn.preprocessing import RobustScaler\n",
    "\n",
    "from sklearn.preprocessing import FunctionTransformer\n",
    "\n",
    "from sklearn.metrics import precision_recall_fscore_support, confusion_matrix\n",
    "from sklearn.metrics import f1_score, roc_auc_score, roc_curve, auc\n",
    "\n",
    "\n",
    "from sklearn.model_selection import train_test_split\n",
    "\n",
    "from sklearn.ensemble import RandomForestClassifier\n",
    "from sklearn.linear_model import LogisticRegression\n",
    "from sklearn.tree import DecisionTreeClassifier\n",
    "\n",
    "from catboost import CatBoostClassifier\n",
    "\n",
    "from sklearn.metrics import make_scorer, ConfusionMatrixDisplay\n",
    "from sklearn.model_selection import cross_val_score\n",
    "\n",
    "from sklearn.utils import shuffle\n",
    "\n",
    "import re\n",
    "\n",
    "import numpy as np"
   ]
  },
  {
   "cell_type": "code",
   "execution_count": 5,
   "metadata": {},
   "outputs": [
    {
     "data": {
      "text/html": [
       "<div>\n",
       "<style scoped>\n",
       "    .dataframe tbody tr th:only-of-type {\n",
       "        vertical-align: middle;\n",
       "    }\n",
       "\n",
       "    .dataframe tbody tr th {\n",
       "        vertical-align: top;\n",
       "    }\n",
       "\n",
       "    .dataframe thead th {\n",
       "        text-align: right;\n",
       "    }\n",
       "</style>\n",
       "<table border=\"1\" class=\"dataframe\">\n",
       "  <thead>\n",
       "    <tr style=\"text-align: right;\">\n",
       "      <th></th>\n",
       "      <th>RowNumber</th>\n",
       "      <th>CustomerId</th>\n",
       "      <th>Surname</th>\n",
       "      <th>CreditScore</th>\n",
       "      <th>Geography</th>\n",
       "      <th>Gender</th>\n",
       "      <th>Age</th>\n",
       "      <th>Tenure</th>\n",
       "      <th>Balance</th>\n",
       "      <th>NumOfProducts</th>\n",
       "      <th>HasCrCard</th>\n",
       "      <th>IsActiveMember</th>\n",
       "      <th>EstimatedSalary</th>\n",
       "      <th>Exited</th>\n",
       "    </tr>\n",
       "  </thead>\n",
       "  <tbody>\n",
       "    <tr>\n",
       "      <th>0</th>\n",
       "      <td>1</td>\n",
       "      <td>15634602</td>\n",
       "      <td>Hargrave</td>\n",
       "      <td>619</td>\n",
       "      <td>France</td>\n",
       "      <td>Female</td>\n",
       "      <td>42</td>\n",
       "      <td>2.0</td>\n",
       "      <td>0.00</td>\n",
       "      <td>1</td>\n",
       "      <td>1</td>\n",
       "      <td>1</td>\n",
       "      <td>101348.88</td>\n",
       "      <td>1</td>\n",
       "    </tr>\n",
       "    <tr>\n",
       "      <th>1</th>\n",
       "      <td>2</td>\n",
       "      <td>15647311</td>\n",
       "      <td>Hill</td>\n",
       "      <td>608</td>\n",
       "      <td>Spain</td>\n",
       "      <td>Female</td>\n",
       "      <td>41</td>\n",
       "      <td>1.0</td>\n",
       "      <td>83807.86</td>\n",
       "      <td>1</td>\n",
       "      <td>0</td>\n",
       "      <td>1</td>\n",
       "      <td>112542.58</td>\n",
       "      <td>0</td>\n",
       "    </tr>\n",
       "    <tr>\n",
       "      <th>2</th>\n",
       "      <td>3</td>\n",
       "      <td>15619304</td>\n",
       "      <td>Onio</td>\n",
       "      <td>502</td>\n",
       "      <td>France</td>\n",
       "      <td>Female</td>\n",
       "      <td>42</td>\n",
       "      <td>8.0</td>\n",
       "      <td>159660.80</td>\n",
       "      <td>3</td>\n",
       "      <td>1</td>\n",
       "      <td>0</td>\n",
       "      <td>113931.57</td>\n",
       "      <td>1</td>\n",
       "    </tr>\n",
       "    <tr>\n",
       "      <th>3</th>\n",
       "      <td>4</td>\n",
       "      <td>15701354</td>\n",
       "      <td>Boni</td>\n",
       "      <td>699</td>\n",
       "      <td>France</td>\n",
       "      <td>Female</td>\n",
       "      <td>39</td>\n",
       "      <td>1.0</td>\n",
       "      <td>0.00</td>\n",
       "      <td>2</td>\n",
       "      <td>0</td>\n",
       "      <td>0</td>\n",
       "      <td>93826.63</td>\n",
       "      <td>0</td>\n",
       "    </tr>\n",
       "    <tr>\n",
       "      <th>4</th>\n",
       "      <td>5</td>\n",
       "      <td>15737888</td>\n",
       "      <td>Mitchell</td>\n",
       "      <td>850</td>\n",
       "      <td>Spain</td>\n",
       "      <td>Female</td>\n",
       "      <td>43</td>\n",
       "      <td>2.0</td>\n",
       "      <td>125510.82</td>\n",
       "      <td>1</td>\n",
       "      <td>1</td>\n",
       "      <td>1</td>\n",
       "      <td>79084.10</td>\n",
       "      <td>0</td>\n",
       "    </tr>\n",
       "  </tbody>\n",
       "</table>\n",
       "</div>"
      ],
      "text/plain": [
       "   RowNumber  CustomerId   Surname  CreditScore Geography  Gender  Age  \\\n",
       "0          1    15634602  Hargrave          619    France  Female   42   \n",
       "1          2    15647311      Hill          608     Spain  Female   41   \n",
       "2          3    15619304      Onio          502    France  Female   42   \n",
       "3          4    15701354      Boni          699    France  Female   39   \n",
       "4          5    15737888  Mitchell          850     Spain  Female   43   \n",
       "\n",
       "   Tenure    Balance  NumOfProducts  HasCrCard  IsActiveMember  \\\n",
       "0     2.0       0.00              1          1               1   \n",
       "1     1.0   83807.86              1          0               1   \n",
       "2     8.0  159660.80              3          1               0   \n",
       "3     1.0       0.00              2          0               0   \n",
       "4     2.0  125510.82              1          1               1   \n",
       "\n",
       "   EstimatedSalary  Exited  \n",
       "0        101348.88       1  \n",
       "1        112542.58       0  \n",
       "2        113931.57       1  \n",
       "3         93826.63       0  \n",
       "4         79084.10       0  "
      ]
     },
     "execution_count": 5,
     "metadata": {},
     "output_type": "execute_result"
    }
   ],
   "source": [
    "df = pd.read_csv(\"dataset/Churn.csv\")\n",
    "df.head()"
   ]
  },
  {
   "cell_type": "code",
   "execution_count": 6,
   "metadata": {},
   "outputs": [
    {
     "name": "stdout",
     "output_type": "stream",
     "text": [
      "<class 'pandas.core.frame.DataFrame'>\n",
      "RangeIndex: 10000 entries, 0 to 9999\n",
      "Data columns (total 14 columns):\n",
      " #   Column           Non-Null Count  Dtype  \n",
      "---  ------           --------------  -----  \n",
      " 0   RowNumber        10000 non-null  int64  \n",
      " 1   CustomerId       10000 non-null  int64  \n",
      " 2   Surname          10000 non-null  object \n",
      " 3   CreditScore      10000 non-null  int64  \n",
      " 4   Geography        10000 non-null  object \n",
      " 5   Gender           10000 non-null  object \n",
      " 6   Age              10000 non-null  int64  \n",
      " 7   Tenure           9091 non-null   float64\n",
      " 8   Balance          10000 non-null  float64\n",
      " 9   NumOfProducts    10000 non-null  int64  \n",
      " 10  HasCrCard        10000 non-null  int64  \n",
      " 11  IsActiveMember   10000 non-null  int64  \n",
      " 12  EstimatedSalary  10000 non-null  float64\n",
      " 13  Exited           10000 non-null  int64  \n",
      "dtypes: float64(3), int64(8), object(3)\n",
      "memory usage: 1.1+ MB\n"
     ]
    }
   ],
   "source": [
    "df.info()"
   ]
  },
  {
   "cell_type": "markdown",
   "metadata": {},
   "source": [
    "сразу приведем данные к необходимым типам данных:"
   ]
  },
  {
   "cell_type": "code",
   "execution_count": 7,
   "metadata": {},
   "outputs": [],
   "source": [
    "df.HasCrCard, df.IsActiveMember = [x.astype('bool') for x in [df.HasCrCard, df.IsActiveMember]]\n",
    "df.Geography, df.Gender  = [x.astype('category') for x in [df.Geography, df.Gender]]"
   ]
  },
  {
   "cell_type": "code",
   "execution_count": 8,
   "metadata": {
    "scrolled": true
   },
   "outputs": [
    {
     "name": "stdout",
     "output_type": "stream",
     "text": [
      "<class 'pandas.core.frame.DataFrame'>\n",
      "RangeIndex: 10000 entries, 0 to 9999\n",
      "Data columns (total 14 columns):\n",
      " #   Column           Non-Null Count  Dtype   \n",
      "---  ------           --------------  -----   \n",
      " 0   RowNumber        10000 non-null  int64   \n",
      " 1   CustomerId       10000 non-null  int64   \n",
      " 2   Surname          10000 non-null  object  \n",
      " 3   CreditScore      10000 non-null  int64   \n",
      " 4   Geography        10000 non-null  category\n",
      " 5   Gender           10000 non-null  category\n",
      " 6   Age              10000 non-null  int64   \n",
      " 7   Tenure           9091 non-null   float64 \n",
      " 8   Balance          10000 non-null  float64 \n",
      " 9   NumOfProducts    10000 non-null  int64   \n",
      " 10  HasCrCard        10000 non-null  bool    \n",
      " 11  IsActiveMember   10000 non-null  bool    \n",
      " 12  EstimatedSalary  10000 non-null  float64 \n",
      " 13  Exited           10000 non-null  int64   \n",
      "dtypes: bool(2), category(2), float64(3), int64(6), object(1)\n",
      "memory usage: 820.7+ KB\n"
     ]
    }
   ],
   "source": [
    "df.info()"
   ]
  },
  {
   "cell_type": "code",
   "execution_count": 9,
   "metadata": {
    "scrolled": true
   },
   "outputs": [
    {
     "data": {
      "text/html": [
       "<div>\n",
       "<style scoped>\n",
       "    .dataframe tbody tr th:only-of-type {\n",
       "        vertical-align: middle;\n",
       "    }\n",
       "\n",
       "    .dataframe tbody tr th {\n",
       "        vertical-align: top;\n",
       "    }\n",
       "\n",
       "    .dataframe thead th {\n",
       "        text-align: right;\n",
       "    }\n",
       "</style>\n",
       "<table border=\"1\" class=\"dataframe\">\n",
       "  <thead>\n",
       "    <tr style=\"text-align: right;\">\n",
       "      <th></th>\n",
       "      <th>RowNumber</th>\n",
       "      <th>CustomerId</th>\n",
       "      <th>CreditScore</th>\n",
       "      <th>Age</th>\n",
       "      <th>Tenure</th>\n",
       "      <th>Balance</th>\n",
       "      <th>NumOfProducts</th>\n",
       "      <th>EstimatedSalary</th>\n",
       "      <th>Exited</th>\n",
       "    </tr>\n",
       "  </thead>\n",
       "  <tbody>\n",
       "    <tr>\n",
       "      <th>count</th>\n",
       "      <td>10000.00000</td>\n",
       "      <td>1.000000e+04</td>\n",
       "      <td>10000.000000</td>\n",
       "      <td>10000.000000</td>\n",
       "      <td>9091.000000</td>\n",
       "      <td>10000.000000</td>\n",
       "      <td>10000.000000</td>\n",
       "      <td>10000.000000</td>\n",
       "      <td>10000.000000</td>\n",
       "    </tr>\n",
       "    <tr>\n",
       "      <th>mean</th>\n",
       "      <td>5000.50000</td>\n",
       "      <td>1.569094e+07</td>\n",
       "      <td>650.528800</td>\n",
       "      <td>38.921800</td>\n",
       "      <td>4.997690</td>\n",
       "      <td>76485.889288</td>\n",
       "      <td>1.530200</td>\n",
       "      <td>100090.239881</td>\n",
       "      <td>0.203700</td>\n",
       "    </tr>\n",
       "    <tr>\n",
       "      <th>std</th>\n",
       "      <td>2886.89568</td>\n",
       "      <td>7.193619e+04</td>\n",
       "      <td>96.653299</td>\n",
       "      <td>10.487806</td>\n",
       "      <td>2.894723</td>\n",
       "      <td>62397.405202</td>\n",
       "      <td>0.581654</td>\n",
       "      <td>57510.492818</td>\n",
       "      <td>0.402769</td>\n",
       "    </tr>\n",
       "    <tr>\n",
       "      <th>min</th>\n",
       "      <td>1.00000</td>\n",
       "      <td>1.556570e+07</td>\n",
       "      <td>350.000000</td>\n",
       "      <td>18.000000</td>\n",
       "      <td>0.000000</td>\n",
       "      <td>0.000000</td>\n",
       "      <td>1.000000</td>\n",
       "      <td>11.580000</td>\n",
       "      <td>0.000000</td>\n",
       "    </tr>\n",
       "    <tr>\n",
       "      <th>25%</th>\n",
       "      <td>2500.75000</td>\n",
       "      <td>1.562853e+07</td>\n",
       "      <td>584.000000</td>\n",
       "      <td>32.000000</td>\n",
       "      <td>2.000000</td>\n",
       "      <td>0.000000</td>\n",
       "      <td>1.000000</td>\n",
       "      <td>51002.110000</td>\n",
       "      <td>0.000000</td>\n",
       "    </tr>\n",
       "    <tr>\n",
       "      <th>50%</th>\n",
       "      <td>5000.50000</td>\n",
       "      <td>1.569074e+07</td>\n",
       "      <td>652.000000</td>\n",
       "      <td>37.000000</td>\n",
       "      <td>5.000000</td>\n",
       "      <td>97198.540000</td>\n",
       "      <td>1.000000</td>\n",
       "      <td>100193.915000</td>\n",
       "      <td>0.000000</td>\n",
       "    </tr>\n",
       "    <tr>\n",
       "      <th>75%</th>\n",
       "      <td>7500.25000</td>\n",
       "      <td>1.575323e+07</td>\n",
       "      <td>718.000000</td>\n",
       "      <td>44.000000</td>\n",
       "      <td>7.000000</td>\n",
       "      <td>127644.240000</td>\n",
       "      <td>2.000000</td>\n",
       "      <td>149388.247500</td>\n",
       "      <td>0.000000</td>\n",
       "    </tr>\n",
       "    <tr>\n",
       "      <th>max</th>\n",
       "      <td>10000.00000</td>\n",
       "      <td>1.581569e+07</td>\n",
       "      <td>850.000000</td>\n",
       "      <td>92.000000</td>\n",
       "      <td>10.000000</td>\n",
       "      <td>250898.090000</td>\n",
       "      <td>4.000000</td>\n",
       "      <td>199992.480000</td>\n",
       "      <td>1.000000</td>\n",
       "    </tr>\n",
       "  </tbody>\n",
       "</table>\n",
       "</div>"
      ],
      "text/plain": [
       "         RowNumber    CustomerId   CreditScore           Age       Tenure  \\\n",
       "count  10000.00000  1.000000e+04  10000.000000  10000.000000  9091.000000   \n",
       "mean    5000.50000  1.569094e+07    650.528800     38.921800     4.997690   \n",
       "std     2886.89568  7.193619e+04     96.653299     10.487806     2.894723   \n",
       "min        1.00000  1.556570e+07    350.000000     18.000000     0.000000   \n",
       "25%     2500.75000  1.562853e+07    584.000000     32.000000     2.000000   \n",
       "50%     5000.50000  1.569074e+07    652.000000     37.000000     5.000000   \n",
       "75%     7500.25000  1.575323e+07    718.000000     44.000000     7.000000   \n",
       "max    10000.00000  1.581569e+07    850.000000     92.000000    10.000000   \n",
       "\n",
       "             Balance  NumOfProducts  EstimatedSalary        Exited  \n",
       "count   10000.000000   10000.000000     10000.000000  10000.000000  \n",
       "mean    76485.889288       1.530200    100090.239881      0.203700  \n",
       "std     62397.405202       0.581654     57510.492818      0.402769  \n",
       "min         0.000000       1.000000        11.580000      0.000000  \n",
       "25%         0.000000       1.000000     51002.110000      0.000000  \n",
       "50%     97198.540000       1.000000    100193.915000      0.000000  \n",
       "75%    127644.240000       2.000000    149388.247500      0.000000  \n",
       "max    250898.090000       4.000000    199992.480000      1.000000  "
      ]
     },
     "execution_count": 9,
     "metadata": {},
     "output_type": "execute_result"
    }
   ],
   "source": [
    "df.describe()"
   ]
  },
  {
   "cell_type": "code",
   "execution_count": 10,
   "metadata": {},
   "outputs": [
    {
     "data": {
      "image/png": "[encoded data removed]",
      "text/plain": [
       "<Figure size 1500x1500 with 6 Axes>"
      ]
     },
     "metadata": {},
     "output_type": "display_data"
    }
   ],
   "source": [
    "num_col_viz = [x for x in df.select_dtypes(include='number').columns.to_list() if x not in ['NumOfProducts', 'Exited',\n",
    "                                                                                           'RowNumber', 'CustomerId']]\n",
    "\n",
    "df.hist(column=num_col_viz, figsize=(15,15))\n",
    "plt.show()"
   ]
  },
  {
   "cell_type": "code",
   "execution_count": 11,
   "metadata": {
    "scrolled": true
   },
   "outputs": [
    {
     "data": {
      "image/png": "[encoded data removed]",
      "text/plain": [
       "<Figure size 1200x400 with 2 Axes>"
      ]
     },
     "metadata": {},
     "output_type": "display_data"
    }
   ],
   "source": [
    "fig, axes = plt.subplots(1, 2, figsize=(12,4))\n",
    "\n",
    "df.NumOfProducts.value_counts().plot(ax=axes[0], kind='bar', rot=0)\n",
    "df.Exited.value_counts().plot(ax=axes[1], kind='bar', rot=0)\n",
    "axes[0].set_title('NumOfProducts')\n",
    "axes[1].set_title('Exited')\n",
    "plt.show()"
   ]
  },
  {
   "cell_type": "code",
   "execution_count": 12,
   "metadata": {},
   "outputs": [
    {
     "data": {
      "text/plain": [
       "Index(['RowNumber', 'CustomerId', 'Surname', 'CreditScore', 'Geography',\n",
       "       'Gender', 'Age', 'Tenure', 'Balance', 'NumOfProducts', 'HasCrCard',\n",
       "       'IsActiveMember', 'EstimatedSalary', 'Exited'],\n",
       "      dtype='object')"
      ]
     },
     "execution_count": 12,
     "metadata": {},
     "output_type": "execute_result"
    }
   ],
   "source": [
    "df.columns"
   ]
  },
  {
   "cell_type": "code",
   "execution_count": 13,
   "metadata": {},
   "outputs": [
    {
     "data": {
      "image/png": "[encoded data removed]",
      "text/plain": [
       "<Figure size 640x480 with 1 Axes>"
      ]
     },
     "metadata": {},
     "output_type": "display_data"
    },
    {
     "data": {
      "image/png": "[encoded data removed]",
      "text/plain": [
       "<Figure size 640x480 with 1 Axes>"
      ]
     },
     "metadata": {},
     "output_type": "display_data"
    },
    {
     "data": {
      "image/png": "[encoded data removed]",
      "text/plain": [
       "<Figure size 640x480 with 1 Axes>"
      ]
     },
     "metadata": {},
     "output_type": "display_data"
    },
    {
     "data": {
      "image/png": "[encoded data removed]",
      "text/plain": [
       "<Figure size 640x480 with 1 Axes>"
      ]
     },
     "metadata": {},
     "output_type": "display_data"
    },
    {
     "data": {
      "image/png": "[encoded data removed]",
      "text/plain": [
       "<Figure size 640x480 with 1 Axes>"
      ]
     },
     "metadata": {},
     "output_type": "display_data"
    }
   ],
   "source": [
    "for col in ['CreditScore', 'Age', 'Tenure', 'Balance', 'EstimatedSalary']:\n",
    "    df.boxplot(column=col)\n",
    "    plt.show()"
   ]
  },
  {
   "cell_type": "code",
   "execution_count": 17,
   "metadata": {},
   "outputs": [
    {
     "data": {
      "image/png": "[encoded data removed]",
      "text/plain": [
       "<Figure size 1000x700 with 2 Axes>"
      ]
     },
     "metadata": {},
     "output_type": "display_data"
    }
   ],
   "source": [
    "numeric_df = df.select_dtypes(include=[np.number])\n",
    "\n",
    "# Вычисляем матрицу корреляции\n",
    "corr_matrix = numeric_df.corr(method='spearman')\n",
    "\n",
    "# Строим тепловую карту матрицы корреляции\n",
    "plt.figure(figsize=(10, 7))\n",
    "sns.heatmap(data=corr_matrix, annot=True, fmt='.2f', cmap='coolwarm')\n",
    "plt.title('Матрица корреляций')\n",
    "plt.show()"
   ]
  },
  {
   "cell_type": "code",
   "execution_count": 20,
   "metadata": {},
   "outputs": [
    {
     "name": "stdout",
     "output_type": "stream",
     "text": [
      "\n",
      "====================================================\n",
      "Количество яных дубликатов: 0\n",
      "====================================================\n",
      "\n"
     ]
    }
   ],
   "source": [
    "print(f'''\n",
    "====================================================\n",
    "Количество яных дубликатов: {df.duplicated().sum()}\n",
    "====================================================\n",
    "''')"
   ]
  },
  {
   "cell_type": "code",
   "execution_count": 21,
   "metadata": {},
   "outputs": [
    {
     "name": "stdout",
     "output_type": "stream",
     "text": [
      "=========================================\n",
      "Количество неуникальных номеров строк: 0\n",
      "=========================================\n",
      "Количество неуникальных идентификаторов пользователя: 0\n",
      "=========================================\n",
      "Количество уникальных фамилий: 2932\n",
      "=========================================\n",
      "Перечень локаций: ['France', 'Spain', 'Germany']\n",
      "=========================================\n",
      "Перечень полов: ['Female', 'Male']\n"
     ]
    }
   ],
   "source": [
    "print('=========================================')\n",
    "print(f'Количество неуникальных номеров строк: {df.RowNumber.__len__() - df.RowNumber.unique().__len__()}')\n",
    "print('=========================================')\n",
    "print(f'Количество неуникальных идентификаторов пользователя: {df.CustomerId.__len__() - df.CustomerId.unique().__len__()}')\n",
    "print('=========================================')\n",
    "print(f'Количество уникальных фамилий: {df.Surname.unique().__len__()}')\n",
    "print('=========================================')\n",
    "print(f'Перечень локаций: {df.Geography.unique().tolist()}')\n",
    "print('=========================================')\n",
    "print(f'Перечень полов: {df.Gender.unique().tolist()}')"
   ]
  },
  {
   "cell_type": "markdown",
   "metadata": {},
   "source": [
    "---\n",
    "Проверка на явные дубликаты дала нулевой результат. Это хороший показатель, однако могут присутствовать неявные дубликаты, обычно появляющиеся в результате ошибок человека или системы, например неверное написание фамилии или повторные выгрузки с ошибками.  \n",
    "Для проверки, мы посмотрели на количество неуникальных значений номеров строк и id пользователей. Повторных значений нет, все строки и пользователи уникальны.  \n",
    "Количество уникальных фамилий составляет примерно 1/3 от всех пользователей. Это наталкивает на мысль, что возможно, могут быть ошибки в фамилии (или артефакты выгрузки, типа знаков подчеркиваний или пробелов), а механизмы присвоения RowNumber и CustomerId нам доподлино неизвестны. Таким образом, тут могут появиться неявные дубликаты.  \n",
    "Неявных дубликатов, полученных на основе остальных колонок, таких как локация или пол, не может быть - они прописаны без ошибок, дублирований и однозначно."
   ]
  },
  {
   "cell_type": "code",
   "execution_count": 22,
   "metadata": {},
   "outputs": [
    {
     "name": "stdout",
     "output_type": "stream",
     "text": [
      "\n",
      "====================================================\n",
      "Количество неяных дубликатов: 0\n",
      "====================================================\n",
      "\n"
     ]
    }
   ],
   "source": [
    "print(f'''\n",
    "====================================================\n",
    "Количество неяных дубликатов: {df.drop(['Surname', 'RowNumber', 'CustomerId'], axis=1).duplicated().sum()}\n",
    "====================================================\n",
    "''')"
   ]
  },
  {
   "cell_type": "markdown",
   "metadata": {},
   "source": [
    "В итоге, можно сделать вывод - неявных дубликатов нет.\n",
    "\n",
    "---\n",
    "Однако, этот анализ дал нам яное понимание, что такие колонки как 'Surname', 'RowNumber', 'CustomerId' - не имеют ценности для прогностической модели, т.е. не несут некоторой информации о пользователе, которая призвана помочь разделить их по целевому признаку. По сути являясь категориальными, эти признаки уникальны для каждого семпла, что делает их нецелесообразным для дальнейшего использования.\n",
    "\n",
    "А вот такие признаки, как локация и пол - вполне могут оказаться полезными для моделй. Их необходимо перевести в бинарные признаки методом One Hot Encoding."
   ]
  },
  {
   "cell_type": "code",
   "execution_count": 23,
   "metadata": {},
   "outputs": [
    {
     "name": "stdout",
     "output_type": "stream",
     "text": [
      "\n",
      "==========================\n",
      "Процент пользователей, оставшихся клиентами банка: 79.63%;\n",
      "===\n",
      "Процент пользователей, отказавшихся от услуг банка: 20.37%.\n",
      "==========================\n",
      "\n"
     ]
    }
   ],
   "source": [
    "remained, gone = df.Exited.value_counts(normalize=True)*100\n",
    "print(f\"\"\"\n",
    "==========================\n",
    "Процент пользователей, оставшихся клиентами банка: {remained:.2f}%;\n",
    "===\n",
    "Процент пользователей, отказавшихся от услуг банка: {gone:.2f}%.\n",
    "==========================\n",
    "\"\"\")"
   ]
  },
  {
   "cell_type": "markdown",
   "metadata": {},
   "source": [
    "Присутствуют пропуски в Tenure. Будут обработаны в рамках пайплайна. Для этого будет использован IterativeImputer, который заполняет пропуски на основе оценивания непропущенных значений остальных признаков каждого из семплов в сравнении со всеми семплами в выборке."
   ]
  },
  {
   "cell_type": "markdown",
   "metadata": {},
   "source": [
    "---\n",
    "---\n",
    "\n",
    "Таким образом:\n",
    "- рассмотрено распределение данных - большинство из которых не является нормальным, некоторые является смещенными вправо.\n",
    "- расмотрены диаграммы размаха. Ряд параметров имеют выбросы по IQR (межквантильному размаху). Однако, это достаточно распространенная ситуация в такого рода данных и не может являться прямым указанием на аномалии в данных. Данные выбросы можно обработать с ипользованием средств масштабирования, ориентированных на преобразование данных исходя из значений IQR, таких как RobustScaler.\n",
    "- рассмотрена матрица корреляций. Линейной зависимости в данных не наблюдается. Это может быть не самым позитивным показателем, т.к. зависимости между входными переменными и таргетом в таком случае являются нелинейными, если они вообще есть. Это может усложнить работу классификатора, и этот факт необходимо учитывать при выборе модели для обучения.\n",
    "- дубликатов нет. Более подробный анализ представлен выше.\n",
    "- наблюдается дисбаланс классов - семплов положительного класса всего 20% от всего набора данных."
   ]
  },
  {
   "cell_type": "code",
   "execution_count": 24,
   "metadata": {},
   "outputs": [],
   "source": [
    "class_counts = df.Exited.value_counts()"
   ]
  },
  {
   "cell_type": "code",
   "execution_count": 25,
   "metadata": {},
   "outputs": [
    {
     "data": {
      "image/png": "[encoded data removed]",
      "text/plain": [
       "<Figure size 1000x600 with 1 Axes>"
      ]
     },
     "metadata": {},
     "output_type": "display_data"
    }
   ],
   "source": [
    "plt.figure(figsize=(10, 6))\n",
    "sns.set_style(\"whitegrid\")\n",
    "colors = sns.color_palette(\"Set2\")\n",
    "\n",
    "explode = (0.1, 0)\n",
    "plt.pie(class_counts, labels=['Остались', 'Ушли'], autopct='%1.1f%%', startangle=140, explode=explode, colors=colors, shadow=True)\n",
    "\n",
    "plt.title('Соотношение клиентов: Остались vs Ушли', fontsize=16)\n",
    "plt.axis('equal')\n",
    "\n",
    "plt.show()"
   ]
  },
  {
   "cell_type": "markdown",
   "metadata": {},
   "source": [
    "---\n",
    "В начале были обозначены задачи на обработку данных, и в текущий момент, описанные действия остаются актуальными.  \n",
    "Для предобработки данных сформируем его пайплайн. Также удалим неинформативные колонки - 'Surname', 'RowNumber', 'CustomerId'."
   ]
  },
  {
   "cell_type": "code",
   "execution_count": 26,
   "metadata": {},
   "outputs": [
    {
     "data": {
      "text/html": [
       "<div>\n",
       "<style scoped>\n",
       "    .dataframe tbody tr th:only-of-type {\n",
       "        vertical-align: middle;\n",
       "    }\n",
       "\n",
       "    .dataframe tbody tr th {\n",
       "        vertical-align: top;\n",
       "    }\n",
       "\n",
       "    .dataframe thead th {\n",
       "        text-align: right;\n",
       "    }\n",
       "</style>\n",
       "<table border=\"1\" class=\"dataframe\">\n",
       "  <thead>\n",
       "    <tr style=\"text-align: right;\">\n",
       "      <th></th>\n",
       "      <th>row_number</th>\n",
       "      <th>customer_id</th>\n",
       "      <th>surname</th>\n",
       "      <th>credit_score</th>\n",
       "      <th>geography</th>\n",
       "      <th>gender</th>\n",
       "      <th>age</th>\n",
       "      <th>tenure</th>\n",
       "      <th>balance</th>\n",
       "      <th>num_of_products</th>\n",
       "      <th>has_cr_card</th>\n",
       "      <th>is_active_member</th>\n",
       "      <th>estimated_salary</th>\n",
       "      <th>exited</th>\n",
       "    </tr>\n",
       "  </thead>\n",
       "  <tbody>\n",
       "    <tr>\n",
       "      <th>0</th>\n",
       "      <td>1</td>\n",
       "      <td>15634602</td>\n",
       "      <td>Hargrave</td>\n",
       "      <td>619</td>\n",
       "      <td>France</td>\n",
       "      <td>Female</td>\n",
       "      <td>42</td>\n",
       "      <td>2.0</td>\n",
       "      <td>0.0</td>\n",
       "      <td>1</td>\n",
       "      <td>True</td>\n",
       "      <td>True</td>\n",
       "      <td>101348.88</td>\n",
       "      <td>1</td>\n",
       "    </tr>\n",
       "  </tbody>\n",
       "</table>\n",
       "</div>"
      ],
      "text/plain": [
       "   row_number  customer_id   surname  credit_score geography  gender  age  \\\n",
       "0           1     15634602  Hargrave           619    France  Female   42   \n",
       "\n",
       "   tenure  balance  num_of_products  has_cr_card  is_active_member  \\\n",
       "0     2.0      0.0                1         True              True   \n",
       "\n",
       "   estimated_salary  exited  \n",
       "0         101348.88       1  "
      ]
     },
     "execution_count": 26,
     "metadata": {},
     "output_type": "execute_result"
    }
   ],
   "source": [
    "df = df.rename(columns=lambda x: re.sub(r'(?<!^)([A-Z])', r'_\\1', x).lower())\n",
    "df.head(1)"
   ]
  },
  {
   "cell_type": "code",
   "execution_count": 27,
   "metadata": {},
   "outputs": [],
   "source": [
    "X, y = df.drop(['surname', 'row_number', 'customer_id', 'exited'], axis=1), df.exited"
   ]
  },
  {
   "cell_type": "code",
   "execution_count": 28,
   "metadata": {},
   "outputs": [],
   "source": [
    "cat_cols = X.select_dtypes(include='category').columns.to_list()\n",
    "num_cols = X.select_dtypes(include='number').columns.to_list()\n",
    "bool_cols = X.select_dtypes(include='bool').columns.to_list()"
   ]
  },
  {
   "cell_type": "code",
   "execution_count": 29,
   "metadata": {},
   "outputs": [],
   "source": [
    "X_train, X_tmp, y_train, y_tmp = train_test_split(X, y, test_size=0.4, random_state=12345, stratify=y)\n",
    "X_test, X_val, y_test, y_val = train_test_split(X_tmp, y_tmp, test_size=0.5, random_state=12345, stratify=y_tmp)"
   ]
  },
  {
   "cell_type": "code",
   "execution_count": 30,
   "metadata": {},
   "outputs": [],
   "source": [
    "numeric_transformer = Pipeline(steps=[\n",
    "    ('imputer', IterativeImputer(random_state=12345)),\n",
    "    ('scaler', RobustScaler())\n",
    "])\n",
    "\n",
    "categorical_transformer = Pipeline(steps=[\n",
    "    ('onehot', OneHotEncoder(drop='first', handle_unknown='ignore'))\n",
    "])\n",
    "\n",
    "noop_transformer = FunctionTransformer()\n",
    "bool_transformer = Pipeline(steps=[\n",
    "    ('noop', noop_transformer)\n",
    "])\n",
    "\n",
    "preprocessor = ColumnTransformer(transformers=[\n",
    "    ('cat', categorical_transformer, cat_cols),\n",
    "    ('num', numeric_transformer, num_cols),\n",
    "    ('bool', bool_transformer, bool_cols)\n",
    "])"
   ]
  },
  {
   "cell_type": "markdown",
   "metadata": {},
   "source": [
    " В данном блоке мы:\n",
    " - заполнили пропуски\n",
    " - отмасштабировали числовые параметры\n",
    " - категориальные перевели в булевы методом горячего кодирования\n",
    " - булевы колонки не трансформировали.  \n",
    " \n",
    "Использование пайплайна и колумн трансформера очень удобно, потому что в одном месте собраны все препроцессовые функции для данных, мы их видем и можем проще и быстрее контролиировать. Также, он имеет методы fit и predict, и он понимает, какие трансформации можно применять в трейне, но нельзя к тесту."
   ]
  },
  {
   "cell_type": "markdown",
   "metadata": {},
   "source": [
    "## Исследование задачи"
   ]
  },
  {
   "cell_type": "code",
   "execution_count": 31,
   "metadata": {},
   "outputs": [],
   "source": [
    "def model_eval(y_val, predictions):\n",
    "    # Оценка модели\n",
    "    f1 = f1_score(y_val, predictions)\n",
    "    conf_matrix = confusion_matrix(y_val, predictions)\n",
    "\n",
    "    print(f'F1 Score: {f1}')\n",
    "#     print(f'Confusion Matrix:\\n{conf_matrix}')\n",
    "    disp = ConfusionMatrixDisplay(conf_matrix)\n",
    "    disp.plot()\n",
    "    plt.show()\n",
    "    precision, recall, f1, support = precision_recall_fscore_support(y_val, predictions)\n",
    "\n",
    "    # Вывести метрики для каждого класса\n",
    "    for i in range(len(precision)):\n",
    "        print(f\"Class {i}: Precision: {precision[i]}, Recall: {recall[i]}, F1-Score: {f1[i]}, Support: {support[i]}\")"
   ]
  },
  {
   "cell_type": "code",
   "execution_count": 32,
   "metadata": {},
   "outputs": [],
   "source": [
    "clf = RandomForestClassifier(random_state=12345, class_weight='balanced')\n",
    "\n",
    "pipeline = Pipeline(steps=[\n",
    "    ('preprocess', preprocessor),\n",
    "    ('classofier', clf)\n",
    "])"
   ]
  },
  {
   "cell_type": "code",
   "execution_count": 33,
   "metadata": {},
   "outputs": [
    {
     "name": "stdout",
     "output_type": "stream",
     "text": [
      "F1 Score: 0.5345911949685535\n"
     ]
    },
    {
     "data": {
      "image/png": "[encoded data removed]",
      "text/plain": [
       "<Figure size 640x480 with 2 Axes>"
      ]
     },
     "metadata": {},
     "output_type": "display_data"
    },
    {
     "name": "stdout",
     "output_type": "stream",
     "text": [
      "Class 0: Precision: 0.8661773009599096, Recall: 0.9629629629629629, F1-Score: 0.9120095124851367, Support: 1593\n",
      "Class 1: Precision: 0.74235807860262, Recall: 0.4176904176904177, F1-Score: 0.5345911949685535, Support: 407\n"
     ]
    }
   ],
   "source": [
    "pipeline.fit(X_train, y_train)\n",
    "predictions = pipeline.predict(X_val)\n",
    "model_eval(y_val, predictions)"
   ]
  },
  {
   "cell_type": "markdown",
   "metadata": {},
   "source": [
    "В задаче не сказано, как необходимо усреднять f1 по классам, поэтому будем ориентироваться на настройки по умолчанию - ориентироваться на бинарное усреднение, т.е. это значение f1 по целевому классу.\n",
    "Модель из \"коробки\" нам выдает результат 0.54 по f1, а в задании метрика должна быть не меньше 0.59. Это результат не оптимизированной по гиперпараметрам и несбалансированной по выборке модели.\n",
    "\n",
    "Давайте проверим еще 2 модели из \"коробки\" - это логистическая регрессия и catboost."
   ]
  },
  {
   "cell_type": "markdown",
   "metadata": {},
   "source": [
    "Введем еще одну модель - DecisionTreeClassifier"
   ]
  },
  {
   "cell_type": "code",
   "execution_count": 35,
   "metadata": {},
   "outputs": [
    {
     "name": "stdout",
     "output_type": "stream",
     "text": [
      "========= метрики для LogisticRegression(class_weight='balanced', random_state=12345)\n",
      "F1 Score: 0.4751958224543081\n"
     ]
    },
    {
     "data": {
      "image/png": "[encoded data removed]",
      "text/plain": [
       "<Figure size 640x480 with 2 Axes>"
      ]
     },
     "metadata": {},
     "output_type": "display_data"
    },
    {
     "name": "stdout",
     "output_type": "stream",
     "text": [
      "Class 0: Precision: 0.8934817170111288, Recall: 0.7055869428750785, F1-Score: 0.7884952648193616, Support: 1593\n",
      "Class 1: Precision: 0.36792452830188677, Recall: 0.6707616707616708, F1-Score: 0.4751958224543081, Support: 407\n",
      "========= метрики для DecisionTreeClassifier(class_weight='balanced', random_state=12345)\n",
      "F1 Score: 0.4641025641025641\n"
     ]
    },
    {
     "data": {
      "image/png": "[encoded data removed]",
      "text/plain": [
       "<Figure size 640x480 with 2 Axes>"
      ]
     },
     "metadata": {},
     "output_type": "display_data"
    },
    {
     "name": "stdout",
     "output_type": "stream",
     "text": [
      "Class 0: Precision: 0.8610940381069453, Recall: 0.879472693032015, F1-Score: 0.8701863354037267, Support: 1593\n",
      "Class 1: Precision: 0.48525469168900803, Recall: 0.44471744471744473, F1-Score: 0.4641025641025641, Support: 407\n",
      "========= метрики для <catboost.core.CatBoostClassifier object at 0x000001BA9D858970>\n",
      "F1 Score: 0.599128540305011\n"
     ]
    },
    {
     "data": {
      "image/png": "[encoded data removed]",
      "text/plain": [
       "<Figure size 640x480 with 2 Axes>"
      ]
     },
     "metadata": {},
     "output_type": "display_data"
    },
    {
     "name": "stdout",
     "output_type": "stream",
     "text": [
      "Class 0: Precision: 0.9113498992612492, Recall: 0.8518518518518519, F1-Score: 0.8805970149253731, Support: 1593\n",
      "Class 1: Precision: 0.538160469667319, Recall: 0.6756756756756757, F1-Score: 0.599128540305011, Support: 407\n"
     ]
    }
   ],
   "source": [
    "clfs = [LogisticRegression(random_state=12345, class_weight='balanced'), \n",
    "        DecisionTreeClassifier(random_state=12345, class_weight='balanced'),\n",
    "        CatBoostClassifier(verbose=False, task_type='CPU', random_state=12345, auto_class_weights='Balanced')]\n",
    "for clf_tmp in clfs:\n",
    "    \n",
    "    pipeline_tmp = Pipeline(steps=[\n",
    "        ('preprocess', preprocessor),\n",
    "        ('classofier', clf_tmp)\n",
    "    ])\n",
    "    print(f'========= метрики для {clf_tmp}')\n",
    "    pipeline_tmp.fit(X_train, y_train)\n",
    "    predictions_tmp = pipeline_tmp.predict(X_val)\n",
    "    model_eval(y_val, predictions_tmp)"
   ]
  },
  {
   "cell_type": "code",
   "execution_count": 83,
   "metadata": {},
   "outputs": [
    {
     "name": "stdout",
     "output_type": "stream",
     "text": [
      "F1 Score: 0.5662100456621003\n",
      "ROC AUC Score: 0.8600033006812668\n"
     ]
    },
    {
     "data": {
      "image/png": "[encoded data removed]",
      "text/plain": [
       "<Figure size 432x288 with 1 Axes>"
      ]
     },
     "metadata": {},
     "output_type": "display_data"
    }
   ],
   "source": [
    "probabilities = pipeline_tmp.predict_proba(X_val)[:, 1] # вероятности для класса 1\n",
    "f1 = f1_score(y_val, predictions_tmp)\n",
    "roc_auc = roc_auc_score(y_val, probabilities)\n",
    "print(f'F1 Score: {f1}')\n",
    "print(f'ROC AUC Score: {roc_auc}')\n",
    "\n",
    "# Расчет кривой ROC\n",
    "fpr, tpr, thresholds = roc_curve(y_val, probabilities)\n",
    "roc_auc = auc(fpr, tpr)\n",
    "\n",
    "# Построение кривой ROC\n",
    "plt.figure()\n",
    "plt.plot(fpr, tpr, color='darkorange', lw=2, label='ROC curve (area = %0.2f)' % roc_auc)\n",
    "plt.plot([0, 1], [0, 1], color='navy', lw=2, linestyle='--')\n",
    "plt.xlim([0.0, 1.0])\n",
    "plt.ylim([0.0, 1.05])\n",
    "plt.xlabel('False Positive Rate')\n",
    "plt.ylabel('True Positive Rate')\n",
    "plt.title('Receiver Operating Characteristic')\n",
    "plt.legend(loc=\"lower right\")\n",
    "plt.show()"
   ]
  },
  {
   "cell_type": "markdown",
   "metadata": {},
   "source": [
    "---\n",
    "Такое значение ROC AUC отражает хорошую прогностическую способность модели по сравнению со случайной. Однако потенциал для улучшения модели присутствует, т.к полнота на целевом классе достаточно низкая."
   ]
  },
  {
   "cell_type": "code",
   "execution_count": 40,
   "metadata": {},
   "outputs": [
    {
     "name": "stdout",
     "output_type": "stream",
     "text": [
      "Collecting optuna\n",
      "  Downloading optuna-3.4.0-py3-none-any.whl (409 kB)\n",
      "\u001b[K     |████████████████████████████████| 409 kB 1.1 MB/s eta 0:00:01\n",
      "\u001b[?25hCollecting colorlog\n",
      "  Downloading colorlog-6.7.0-py2.py3-none-any.whl (11 kB)\n",
      "Requirement already satisfied: packaging>=20.0 in /opt/conda/lib/python3.9/site-packages (from optuna) (21.3)\n",
      "Requirement already satisfied: numpy in /opt/conda/lib/python3.9/site-packages (from optuna) (1.21.1)\n",
      "Requirement already satisfied: sqlalchemy>=1.3.0 in /opt/conda/lib/python3.9/site-packages (from optuna) (1.4.20)\n",
      "Requirement already satisfied: tqdm in /opt/conda/lib/python3.9/site-packages (from optuna) (4.61.2)\n",
      "Requirement already satisfied: alembic>=1.5.0 in /opt/conda/lib/python3.9/site-packages (from optuna) (1.6.5)\n",
      "Requirement already satisfied: PyYAML in /opt/conda/lib/python3.9/site-packages (from optuna) (6.0)\n",
      "Requirement already satisfied: Mako in /opt/conda/lib/python3.9/site-packages (from alembic>=1.5.0->optuna) (1.1.4)\n",
      "Requirement already satisfied: python-editor>=0.3 in /opt/conda/lib/python3.9/site-packages (from alembic>=1.5.0->optuna) (1.0.4)\n",
      "Requirement already satisfied: python-dateutil in /opt/conda/lib/python3.9/site-packages (from alembic>=1.5.0->optuna) (2.8.1)\n",
      "Requirement already satisfied: pyparsing!=3.0.5,>=2.0.2 in /opt/conda/lib/python3.9/site-packages (from packaging>=20.0->optuna) (2.4.7)\n",
      "Requirement already satisfied: greenlet!=0.4.17 in /opt/conda/lib/python3.9/site-packages (from sqlalchemy>=1.3.0->optuna) (1.1.0)\n",
      "Requirement already satisfied: MarkupSafe>=0.9.2 in /opt/conda/lib/python3.9/site-packages (from Mako->alembic>=1.5.0->optuna) (2.1.1)\n",
      "Requirement already satisfied: six>=1.5 in /opt/conda/lib/python3.9/site-packages (from python-dateutil->alembic>=1.5.0->optuna) (1.16.0)\n",
      "Installing collected packages: colorlog, optuna\n",
      "Successfully installed colorlog-6.7.0 optuna-3.4.0\n"
     ]
    }
   ],
   "source": [
    "# !pip install optuna"
   ]
  },
  {
   "cell_type": "markdown",
   "metadata": {},
   "source": [
    "---\n",
    "Попробуем найти субоптимальные (т.к. поиск в заданном пространстве за заданное кол-во итераций) значения гиперпараметров для модели, которая из \"коробки\" показала лучший результат - CatBoost.\n",
    "\n",
    "Для этого можно пользоваться различными инструментами, но библиотека для такой оптимизации - optuna - является хорошим выбором, на наш взгляд."
   ]
  },
  {
   "cell_type": "code",
   "execution_count": 44,
   "metadata": {},
   "outputs": [],
   "source": [
    "# import optuna"
   ]
  },
  {
   "cell_type": "code",
   "execution_count": 45,
   "metadata": {},
   "outputs": [
    {
     "name": "stderr",
     "output_type": "stream",
     "text": [
      "[I 2023-11-30 23:26:02,696] A new study created in memory with name: no-name-57a8a83d-fa29-4b01-8ea8-92a5ed358f45\n",
      "[I 2023-11-30 23:26:08,911] Trial 0 finished with value: 0.560843428120643 and parameters: {'iterations': 778, 'learning_rate': 0.001514072404768726, 'depth': 3, 'l2_leaf_reg': 70.89144851394386, 'auto_class_weights': 'Balanced', 'random_strength': 4.610843746288073e-05, 'bagging_temperature': 2.277373214164029, 'od_type': 'Iter', 'od_wait': 32}. Best is trial 0 with value: 0.560843428120643.\n",
      "[I 2023-11-30 23:26:29,328] Trial 1 finished with value: 0.5297980847798902 and parameters: {'iterations': 2450, 'learning_rate': 1.2248814785005121e-05, 'depth': 6, 'l2_leaf_reg': 60.41721901059388, 'auto_class_weights': 'None', 'random_strength': 1.6895895788185675e-06, 'bagging_temperature': 9.89198948893247, 'od_type': 'IncToDec', 'od_wait': 14}. Best is trial 0 with value: 0.560843428120643.\n",
      "[I 2023-11-30 23:26:35,689] Trial 2 finished with value: 0.5243099150505324 and parameters: {'iterations': 971, 'learning_rate': 0.0023320241464758365, 'depth': 1, 'l2_leaf_reg': 21.57844215198518, 'auto_class_weights': 'Balanced', 'random_strength': 3.60492594436688e-07, 'bagging_temperature': 9.902412585934345, 'od_type': 'Iter', 'od_wait': 47}. Best is trial 0 with value: 0.560843428120643.\n",
      "[I 2023-11-30 23:26:41,695] Trial 3 finished with value: 0.506536552670635 and parameters: {'iterations': 797, 'learning_rate': 0.00027449405814538664, 'depth': 2, 'l2_leaf_reg': 58.966420567483986, 'auto_class_weights': 'Balanced', 'random_strength': 0.7910591142476734, 'bagging_temperature': 1.1134116285693263, 'od_type': 'Iter', 'od_wait': 28}. Best is trial 0 with value: 0.560843428120643.\n",
      "[I 2023-11-30 23:26:55,001] Trial 4 finished with value: 0.5837269063075515 and parameters: {'iterations': 2090, 'learning_rate': 0.02202765875275495, 'depth': 4, 'l2_leaf_reg': 32.3008073072909, 'auto_class_weights': 'None', 'random_strength': 0.00046856987174588685, 'bagging_temperature': 9.110559825648089, 'od_type': 'Iter', 'od_wait': 44}. Best is trial 4 with value: 0.5837269063075515.\n",
      "[I 2023-11-30 23:27:10,605] Trial 5 finished with value: 0.5636385516685903 and parameters: {'iterations': 2765, 'learning_rate': 0.00032903050184435883, 'depth': 3, 'l2_leaf_reg': 62.8244010098764, 'auto_class_weights': 'SqrtBalanced', 'random_strength': 2.9112419090713626, 'bagging_temperature': 9.547749929530283, 'od_type': 'Iter', 'od_wait': 32}. Best is trial 4 with value: 0.5837269063075515.\n",
      "[I 2023-11-30 23:27:18,166] Trial 6 finished with value: 0.6069048198746173 and parameters: {'iterations': 365, 'learning_rate': 0.03421675676223087, 'depth': 7, 'l2_leaf_reg': 85.98310117926283, 'auto_class_weights': 'Balanced', 'random_strength': 0.909453578829065, 'bagging_temperature': 9.619955367263326, 'od_type': 'IncToDec', 'od_wait': 41}. Best is trial 6 with value: 0.6069048198746173.\n",
      "[I 2023-11-30 23:27:50,847] Trial 7 finished with value: 0.5790555250618575 and parameters: {'iterations': 2709, 'learning_rate': 0.00027388170209028827, 'depth': 7, 'l2_leaf_reg': 58.617766296008384, 'auto_class_weights': 'Balanced', 'random_strength': 3.495550010108821e-08, 'bagging_temperature': 2.1308807695145404, 'od_type': 'IncToDec', 'od_wait': 48}. Best is trial 6 with value: 0.6069048198746173.\n",
      "[I 2023-11-30 23:28:00,132] Trial 8 finished with value: 0.5668188943572651 and parameters: {'iterations': 422, 'learning_rate': 9.482858189661494e-05, 'depth': 6, 'l2_leaf_reg': 21.466375168041413, 'auto_class_weights': 'Balanced', 'random_strength': 0.00011981814761222694, 'bagging_temperature': 8.960416663110633, 'od_type': 'IncToDec', 'od_wait': 10}. Best is trial 6 with value: 0.6069048198746173.\n",
      "[I 2023-11-30 23:28:15,733] Trial 9 finished with value: 0.5332736561196816 and parameters: {'iterations': 2473, 'learning_rate': 1.3430382129622016e-05, 'depth': 4, 'l2_leaf_reg': 96.7915080978233, 'auto_class_weights': 'SqrtBalanced', 'random_strength': 2.771680736621554e-07, 'bagging_temperature': 6.301801970803193, 'od_type': 'Iter', 'od_wait': 45}. Best is trial 6 with value: 0.6069048198746173.\n",
      "[I 2023-11-30 23:28:41,561] Trial 10 finished with value: 0.5886567834634563 and parameters: {'iterations': 1495, 'learning_rate': 0.07363787689305623, 'depth': 8, 'l2_leaf_reg': 96.31423481225882, 'auto_class_weights': 'SqrtBalanced', 'random_strength': 0.06046324330765556, 'bagging_temperature': 6.5777084967282375, 'od_type': 'IncToDec', 'od_wait': 37}. Best is trial 6 with value: 0.6069048198746173.\n",
      "[I 2023-11-30 23:29:06,819] Trial 11 finished with value: 0.5922677416282812 and parameters: {'iterations': 1475, 'learning_rate': 0.06493364118378077, 'depth': 8, 'l2_leaf_reg': 95.91660564945812, 'auto_class_weights': 'SqrtBalanced', 'random_strength': 0.08031594297911751, 'bagging_temperature': 6.591067297446719, 'od_type': 'IncToDec', 'od_wait': 38}. Best is trial 6 with value: 0.6069048198746173.\n",
      "[I 2023-11-30 23:29:30,873] Trial 12 finished with value: 0.5889531308069249 and parameters: {'iterations': 1509, 'learning_rate': 0.0941892355360622, 'depth': 8, 'l2_leaf_reg': 82.79189664110896, 'auto_class_weights': 'SqrtBalanced', 'random_strength': 0.060720458810524174, 'bagging_temperature': 7.139961309527267, 'od_type': 'IncToDec', 'od_wait': 37}. Best is trial 6 with value: 0.6069048198746173.\n",
      "[I 2023-11-30 23:29:42,505] Trial 13 finished with value: 0.6111117962070695 and parameters: {'iterations': 1199, 'learning_rate': 0.012262081855171364, 'depth': 6, 'l2_leaf_reg': 82.97004483292571, 'auto_class_weights': 'SqrtBalanced', 'random_strength': 0.024700898057825018, 'bagging_temperature': 4.724515657847878, 'od_type': 'IncToDec', 'od_wait': 24}. Best is trial 13 with value: 0.6111117962070695.\n",
      "[I 2023-11-30 23:29:48,897] Trial 14 finished with value: 0.560868205834779 and parameters: {'iterations': 380, 'learning_rate': 0.010959080923478444, 'depth': 6, 'l2_leaf_reg': 80.52634699374053, 'auto_class_weights': 'None', 'random_strength': 0.005031243387268603, 'bagging_temperature': 4.2422244306553685, 'od_type': 'IncToDec', 'od_wait': 20}. Best is trial 13 with value: 0.6111117962070695.\n",
      "[I 2023-11-30 23:29:59,163] Trial 15 finished with value: 0.5843737788302964 and parameters: {'iterations': 1127, 'learning_rate': 0.007386076839094358, 'depth': 5, 'l2_leaf_reg': 43.582319275861806, 'auto_class_weights': 'Balanced', 'random_strength': 9.311337274984838, 'bagging_temperature': 4.782241726182004, 'od_type': 'IncToDec', 'od_wait': 24}. Best is trial 13 with value: 0.6111117962070695.\n",
      "[I 2023-11-30 23:30:14,061] Trial 16 finished with value: 0.6138253795102789 and parameters: {'iterations': 1183, 'learning_rate': 0.005564642327798189, 'depth': 7, 'l2_leaf_reg': 5.851266235020653, 'auto_class_weights': 'SqrtBalanced', 'random_strength': 0.5995134350136366, 'bagging_temperature': 3.9675065787563635, 'od_type': 'IncToDec', 'od_wait': 21}. Best is trial 16 with value: 0.6138253795102789.\n",
      "[I 2023-11-30 23:30:28,982] Trial 17 finished with value: 0.608209757761261 and parameters: {'iterations': 1906, 'learning_rate': 0.005383620827316816, 'depth': 5, 'l2_leaf_reg': 2.227558947720126, 'auto_class_weights': 'SqrtBalanced', 'random_strength': 0.007369721882031626, 'bagging_temperature': 4.062181103313609, 'od_type': 'IncToDec', 'od_wait': 19}. Best is trial 16 with value: 0.6138253795102789.\n",
      "[I 2023-11-30 23:30:44,266] Trial 18 finished with value: 0.6080509355552092 and parameters: {'iterations': 1262, 'learning_rate': 0.0030829668571312778, 'depth': 7, 'l2_leaf_reg': 46.04987556077142, 'auto_class_weights': 'SqrtBalanced', 'random_strength': 0.3573100431049539, 'bagging_temperature': 3.3820890403284385, 'od_type': 'IncToDec', 'od_wait': 25}. Best is trial 16 with value: 0.6138253795102789.\n",
      "[I 2023-11-30 23:31:00,223] Trial 19 finished with value: 0.6062692068820428 and parameters: {'iterations': 1797, 'learning_rate': 0.015226558484404063, 'depth': 6, 'l2_leaf_reg': 3.133341271826029, 'auto_class_weights': 'SqrtBalanced', 'random_strength': 7.200787564477183, 'bagging_temperature': 5.3456564356519145, 'od_type': 'IncToDec', 'od_wait': 18}. Best is trial 16 with value: 0.6138253795102789.\n",
      "[I 2023-11-30 23:31:08,069] Trial 20 finished with value: 0.6064040445459457 and parameters: {'iterations': 730, 'learning_rate': 0.00511798858182411, 'depth': 5, 'l2_leaf_reg': 72.56451357921318, 'auto_class_weights': 'SqrtBalanced', 'random_strength': 0.0015381698605403719, 'bagging_temperature': 0.45245306776263483, 'od_type': 'IncToDec', 'od_wait': 23}. Best is trial 16 with value: 0.6138253795102789.\n",
      "[I 2023-11-30 23:31:23,011] Trial 21 finished with value: 0.6058647075716798 and parameters: {'iterations': 1854, 'learning_rate': 0.005800971436236389, 'depth': 5, 'l2_leaf_reg': 1.043732438790921, 'auto_class_weights': 'SqrtBalanced', 'random_strength': 0.014294089955582352, 'bagging_temperature': 3.328061067505968, 'od_type': 'IncToDec', 'od_wait': 18}. Best is trial 16 with value: 0.6138253795102789.\n",
      "[I 2023-11-30 23:31:45,604] Trial 22 finished with value: 0.5933148227734614 and parameters: {'iterations': 2045, 'learning_rate': 0.015104656573280788, 'depth': 7, 'l2_leaf_reg': 11.361414820989467, 'auto_class_weights': 'SqrtBalanced', 'random_strength': 0.00892856353470117, 'bagging_temperature': 4.0888965015368095, 'od_type': 'IncToDec', 'od_wait': 15}. Best is trial 16 with value: 0.6138253795102789.\n",
      "[I 2023-11-30 23:31:56,095] Trial 23 finished with value: 0.6096404183606446 and parameters: {'iterations': 1256, 'learning_rate': 0.002930866334185103, 'depth': 5, 'l2_leaf_reg': 7.621391082074178, 'auto_class_weights': 'SqrtBalanced', 'random_strength': 0.17880667493395078, 'bagging_temperature': 5.350114436450251, 'od_type': 'IncToDec', 'od_wait': 27}. Best is trial 16 with value: 0.6138253795102789.\n",
      "[I 2023-11-30 23:32:07,682] Trial 24 finished with value: 0.6005305116907652 and parameters: {'iterations': 1121, 'learning_rate': 0.0010509821511925877, 'depth': 6, 'l2_leaf_reg': 36.91322099290433, 'auto_class_weights': 'SqrtBalanced', 'random_strength': 0.2654463609431036, 'bagging_temperature': 5.52587478122926, 'od_type': 'IncToDec', 'od_wait': 28}. Best is trial 16 with value: 0.6138253795102789.\n",
      "[I 2023-11-30 23:32:16,747] Trial 25 finished with value: 0.602134994369411 and parameters: {'iterations': 1230, 'learning_rate': 0.003088409587082953, 'depth': 4, 'l2_leaf_reg': 14.252883796570094, 'auto_class_weights': 'SqrtBalanced', 'random_strength': 1.7147747064486747, 'bagging_temperature': 5.076253897070355, 'od_type': 'IncToDec', 'od_wait': 30}. Best is trial 16 with value: 0.6138253795102789.\n",
      "[I 2023-11-30 23:32:29,376] Trial 26 finished with value: 0.5797389997846134 and parameters: {'iterations': 973, 'learning_rate': 0.033861571536401965, 'depth': 7, 'l2_leaf_reg': 30.21045307574126, 'auto_class_weights': 'None', 'random_strength': 0.2744357854140098, 'bagging_temperature': 5.769562025229632, 'od_type': 'IncToDec', 'od_wait': 22}. Best is trial 16 with value: 0.6138253795102789.\n",
      "[I 2023-11-30 23:32:34,954] Trial 27 finished with value: 0.5723866814899173 and parameters: {'iterations': 597, 'learning_rate': 0.0016699608098723572, 'depth': 3, 'l2_leaf_reg': 52.503421397154355, 'auto_class_weights': 'SqrtBalanced', 'random_strength': 0.03304955290559664, 'bagging_temperature': 4.743078745710714, 'od_type': 'IncToDec', 'od_wait': 28}. Best is trial 16 with value: 0.6138253795102789.\n",
      "[I 2023-11-30 23:32:47,859] Trial 28 finished with value: 0.6066323915272651 and parameters: {'iterations': 1368, 'learning_rate': 0.012780012112743336, 'depth': 6, 'l2_leaf_reg': 12.14795765779293, 'auto_class_weights': 'SqrtBalanced', 'random_strength': 0.16060662249688581, 'bagging_temperature': 7.608839250047427, 'od_type': 'IncToDec', 'od_wait': 34}. Best is trial 16 with value: 0.6138253795102789.\n",
      "[I 2023-11-30 23:33:01,517] Trial 29 finished with value: 0.6084163690174331 and parameters: {'iterations': 1730, 'learning_rate': 0.0017049996631174446, 'depth': 5, 'l2_leaf_reg': 24.4915113172009, 'auto_class_weights': 'SqrtBalanced', 'random_strength': 0.0022681932374698202, 'bagging_temperature': 2.6563508927574544, 'od_type': 'Iter', 'od_wait': 26}. Best is trial 16 with value: 0.6138253795102789.\n",
      "[I 2023-11-30 23:33:09,512] Trial 30 finished with value: 0.5612522819280228 and parameters: {'iterations': 937, 'learning_rate': 0.007695094715804969, 'depth': 4, 'l2_leaf_reg': 41.5751433713812, 'auto_class_weights': 'None', 'random_strength': 0.032034541042475204, 'bagging_temperature': 5.919782906685313, 'od_type': 'IncToDec', 'od_wait': 13}. Best is trial 16 with value: 0.6138253795102789.\n",
      "[I 2023-11-30 23:33:22,160] Trial 31 finished with value: 0.602791265109779 and parameters: {'iterations': 1702, 'learning_rate': 0.0011963341705963381, 'depth': 5, 'l2_leaf_reg': 21.91217440114363, 'auto_class_weights': 'SqrtBalanced', 'random_strength': 0.0031472007982049376, 'bagging_temperature': 2.811381265359508, 'od_type': 'Iter', 'od_wait': 25}. Best is trial 16 with value: 0.6138253795102789.\n",
      "[I 2023-11-30 23:33:36,773] Trial 32 finished with value: 0.608315851307241 and parameters: {'iterations': 1589, 'learning_rate': 0.003671509002158899, 'depth': 6, 'l2_leaf_reg': 8.36637340630407, 'auto_class_weights': 'SqrtBalanced', 'random_strength': 0.0021498484922304875, 'bagging_temperature': 2.4873598837948, 'od_type': 'Iter', 'od_wait': 26}. Best is trial 16 with value: 0.6138253795102789.\n",
      "[I 2023-11-30 23:33:47,710] Trial 33 finished with value: 0.6049583565213412 and parameters: {'iterations': 1343, 'learning_rate': 0.0017313074599232276, 'depth': 5, 'l2_leaf_reg': 20.411319962003116, 'auto_class_weights': 'SqrtBalanced', 'random_strength': 0.0006987888564748652, 'bagging_temperature': 3.5214706825374673, 'od_type': 'Iter', 'od_wait': 22}. Best is trial 16 with value: 0.6138253795102789.\n",
      "[I 2023-11-30 23:33:54,210] Trial 34 finished with value: 0.5877343120165462 and parameters: {'iterations': 1073, 'learning_rate': 0.0027137194556710246, 'depth': 2, 'l2_leaf_reg': 6.906125615233096, 'auto_class_weights': 'SqrtBalanced', 'random_strength': 0.016183558670460448, 'bagging_temperature': 4.767073729167595, 'od_type': 'Iter', 'od_wait': 32}. Best is trial 16 with value: 0.6138253795102789.\n",
      "[I 2023-11-30 23:34:12,817] Trial 35 finished with value: 0.6099596710126471 and parameters: {'iterations': 2170, 'learning_rate': 0.0020210404793053662, 'depth': 6, 'l2_leaf_reg': 16.181406652825547, 'auto_class_weights': 'SqrtBalanced', 'random_strength': 3.7546002468305504e-05, 'bagging_temperature': 1.76714388980551, 'od_type': 'Iter', 'od_wait': 27}. Best is trial 16 with value: 0.6138253795102789.\n",
      "[I 2023-11-30 23:34:36,240] Trial 36 finished with value: 0.5811307057944708 and parameters: {'iterations': 2244, 'learning_rate': 0.0098766491013634, 'depth': 7, 'l2_leaf_reg': 17.059286120148844, 'auto_class_weights': 'None', 'random_strength': 3.626748152936365e-05, 'bagging_temperature': 1.7250928103411503, 'od_type': 'Iter', 'od_wait': 30}. Best is trial 16 with value: 0.6138253795102789.\n",
      "[I 2023-11-30 23:34:47,300] Trial 37 finished with value: 0.590089074418274 and parameters: {'iterations': 793, 'learning_rate': 0.000794967629783299, 'depth': 6, 'l2_leaf_reg': 7.5504924528778865, 'auto_class_weights': 'SqrtBalanced', 'random_strength': 1.0947582302153431, 'bagging_temperature': 1.4440383959037004, 'od_type': 'Iter', 'od_wait': 21}. Best is trial 16 with value: 0.6138253795102789.\n",
      "[I 2023-11-30 23:35:11,755] Trial 38 finished with value: 0.608115586777411 and parameters: {'iterations': 2301, 'learning_rate': 0.004429442870701816, 'depth': 7, 'l2_leaf_reg': 27.61735087309791, 'auto_class_weights': 'SqrtBalanced', 'random_strength': 1.972000351876563e-05, 'bagging_temperature': 0.6536913372220292, 'od_type': 'Iter', 'od_wait': 17}. Best is trial 16 with value: 0.6138253795102789.\n",
      "[I 2023-11-30 23:35:54,098] Trial 39 finished with value: 0.5926974502472498 and parameters: {'iterations': 2859, 'learning_rate': 0.019598819705460645, 'depth': 8, 'l2_leaf_reg': 17.004149714686342, 'auto_class_weights': 'Balanced', 'random_strength': 0.00016774154067610776, 'bagging_temperature': 1.9646407397711685, 'od_type': 'IncToDec', 'od_wait': 34}. Best is trial 16 with value: 0.6138253795102789.\n",
      "[I 2023-11-30 23:36:05,197] Trial 40 finished with value: 0.586576431424337 and parameters: {'iterations': 2490, 'learning_rate': 0.007421231564407898, 'depth': 1, 'l2_leaf_reg': 33.07515646005639, 'auto_class_weights': 'SqrtBalanced', 'random_strength': 2.8863741410876176, 'bagging_temperature': 2.974108681727087, 'od_type': 'Iter', 'od_wait': 30}. Best is trial 16 with value: 0.6138253795102789.\n",
      "[I 2023-11-30 23:36:18,138] Trial 41 finished with value: 0.6052363740230639 and parameters: {'iterations': 1350, 'learning_rate': 0.002364632198436364, 'depth': 6, 'l2_leaf_reg': 25.88204129210841, 'auto_class_weights': 'SqrtBalanced', 'random_strength': 0.0008344954831914519, 'bagging_temperature': 2.390580066545264, 'od_type': 'Iter', 'od_wait': 26}. Best is trial 16 with value: 0.6138253795102789.\n",
      "[I 2023-11-30 23:36:33,078] Trial 42 finished with value: 0.610070378712952 and parameters: {'iterations': 2018, 'learning_rate': 0.002108650515558281, 'depth': 5, 'l2_leaf_reg': 14.323226683815886, 'auto_class_weights': 'SqrtBalanced', 'random_strength': 0.5121459255672448, 'bagging_temperature': 1.201598425188748, 'od_type': 'Iter', 'od_wait': 27}. Best is trial 16 with value: 0.6138253795102789.\n",
      "[I 2023-11-30 23:36:47,847] Trial 43 finished with value: 0.6174069625088067 and parameters: {'iterations': 2564, 'learning_rate': 0.004238642797418927, 'depth': 4, 'l2_leaf_reg': 16.10483871000087, 'auto_class_weights': 'SqrtBalanced', 'random_strength': 0.7871780792528231, 'bagging_temperature': 0.007801378108428292, 'od_type': 'Iter', 'od_wait': 28}. Best is trial 43 with value: 0.6174069625088067.\n",
      "[I 2023-11-30 23:37:01,960] Trial 44 finished with value: 0.590470347605364 and parameters: {'iterations': 2639, 'learning_rate': 0.0006816280681472292, 'depth': 3, 'l2_leaf_reg': 17.28987310531904, 'auto_class_weights': 'SqrtBalanced', 'random_strength': 0.45333331899387724, 'bagging_temperature': 0.8519779118359025, 'od_type': 'Iter', 'od_wait': 23}. Best is trial 43 with value: 0.6174069625088067.\n",
      "[I 2023-11-30 23:37:15,051] Trial 45 finished with value: 0.599165420221336 and parameters: {'iterations': 2111, 'learning_rate': 0.025641027349984316, 'depth': 4, 'l2_leaf_reg': 14.809537456076526, 'auto_class_weights': 'Balanced', 'random_strength': 0.8089217611460737, 'bagging_temperature': 0.07757653628977179, 'od_type': 'Iter', 'od_wait': 50}. Best is trial 43 with value: 0.6174069625088067.\n",
      "[I 2023-11-30 23:37:29,036] Trial 46 finished with value: 0.614627665478101 and parameters: {'iterations': 2313, 'learning_rate': 0.004545690759514545, 'depth': 4, 'l2_leaf_reg': 21.647210105945284, 'auto_class_weights': 'SqrtBalanced', 'random_strength': 3.1109901639914486, 'bagging_temperature': 1.21442309872358, 'od_type': 'Iter', 'od_wait': 29}. Best is trial 43 with value: 0.6174069625088067.\n",
      "[I 2023-11-30 23:37:42,067] Trial 47 finished with value: 0.5570710591128232 and parameters: {'iterations': 2590, 'learning_rate': 0.004266658876415287, 'depth': 3, 'l2_leaf_reg': 23.697571933467486, 'auto_class_weights': 'None', 'random_strength': 2.762724320870783, 'bagging_temperature': 1.1251512333310296, 'od_type': 'Iter', 'od_wait': 33}. Best is trial 43 with value: 0.6174069625088067.\n",
      "[I 2023-11-30 23:37:59,648] Trial 48 finished with value: 0.6171036436065267 and parameters: {'iterations': 2993, 'learning_rate': 0.007010072013973886, 'depth': 4, 'l2_leaf_reg': 10.93295840700392, 'auto_class_weights': 'SqrtBalanced', 'random_strength': 0.6410925359117022, 'bagging_temperature': 0.09888405468567338, 'od_type': 'Iter', 'od_wait': 29}. Best is trial 43 with value: 0.6174069625088067.\n",
      "[I 2023-11-30 23:38:16,894] Trial 49 finished with value: 0.6056222414109884 and parameters: {'iterations': 2945, 'learning_rate': 0.007656151127581018, 'depth': 4, 'l2_leaf_reg': 10.905109521434321, 'auto_class_weights': 'Balanced', 'random_strength': 4.616457142345822, 'bagging_temperature': 0.24280558460082163, 'od_type': 'Iter', 'od_wait': 40}. Best is trial 43 with value: 0.6174069625088067.\n"
     ]
    },
    {
     "name": "stdout",
     "output_type": "stream",
     "text": [
      "{'iterations': 2564, 'learning_rate': 0.004238642797418927, 'depth': 4, 'l2_leaf_reg': 16.10483871000087, 'auto_class_weights': 'SqrtBalanced', 'random_strength': 0.7871780792528231, 'bagging_temperature': 0.007801378108428292, 'od_type': 'Iter', 'od_wait': 28}\n"
     ]
    }
   ],
   "source": [
    "# # Функция для создания оценщика F1-меры с микро усреднением\n",
    "# f1_scorer = make_scorer(f1_score, average='binary')\n",
    "\n",
    "# catboost_clf = catboost_clf = CatBoostClassifier(task_type=\"CPU\",\n",
    "#                                   verbose=False, random_seed=12345)\n",
    "# pipeline = Pipeline(steps=[\n",
    "#     ('preprocessor', preprocessor),\n",
    "#     ('classifier', catboost_clf)\n",
    "#   ])\n",
    "\n",
    "# def objective(trial):\n",
    "#     # Гиперпараметры для настройки\n",
    "#     iterations = trial.suggest_int('iterations', 300, 3000)\n",
    "#     learning_rate = trial.suggest_float('learning_rate', 1e-5, 1e-1, log=True)\n",
    "#     depth = trial.suggest_int('depth', 1, 8)\n",
    "#     l2_leaf_reg = trial.suggest_float('l2_leaf_reg', 1.,100.)\n",
    "#     auto_class_weights=trial.suggest_categorical(\"auto_class_weights\", [\"Balanced\", \"SqrtBalanced\", \"None\"])\n",
    "#     random_strength=trial.suggest_float(\"random_strength\", 1e-8, 10.0, log=True)\n",
    "#     bagging_temperature=trial.suggest_float(\"bagging_temperature\", 0.0, 10.0)\n",
    "#     od_type=trial.suggest_categorical(\"od_type\", [\"IncToDec\", \"Iter\"])\n",
    "#     od_wait=trial.suggest_int(\"od_wait\", 10, 50)\n",
    "\n",
    "\n",
    "\n",
    "#     # Обновляем пайплайн новыми гиперпараметрами\n",
    "#     pipeline.set_params(classifier__iterations=iterations,\n",
    "#                         classifier__learning_rate=learning_rate,\n",
    "#                         classifier__depth=depth,\n",
    "#                         classifier__auto_class_weights=auto_class_weights,\n",
    "#                         classifier__l2_leaf_reg=l2_leaf_reg,\n",
    "#                         classifier__random_strength=random_strength,\n",
    "#                         classifier__bagging_temperature=bagging_temperature,\n",
    "#                         classifier__od_type=od_type,\n",
    "#                         classifier__od_wait=od_wait)\n",
    "\n",
    "#     # Выполняем кросс-валидацию и возвращаем среднюю F1-меру\n",
    "#     scores = cross_val_score(pipeline, X_train, y_train, n_jobs=1, cv=3, scoring=f1_scorer)\n",
    "#     return scores.mean()\n",
    "\n",
    "# # Создаем исследование (study) и оптимизируем F1-меру\n",
    "# study = optuna.create_study(direction='maximize')\n",
    "# study.optimize(objective, n_trials=50)\n",
    "\n",
    "# # Выводим лучшие параметры\n",
    "# print(study.best_params)"
   ]
  },
  {
   "cell_type": "markdown",
   "metadata": {},
   "source": [
    "Запуск на поиск гиперпараметров позволил нам увеличить метрику на 1.6% - и это на кросс-валидации.  \n",
    "Получены следующие значения для модели:  \n",
    "{'iterations': 2564, 'learning_rate': 0.004238642797418927, 'depth': 4, 'l2_leaf_reg': 16.10483871000087, 'auto_class_weights': 'SqrtBalanced', 'random_strength': 0.7871780792528231, 'bagging_temperature': 0.007801378108428292, 'od_type': 'Iter', 'od_wait': 28}"
   ]
  },
  {
   "cell_type": "markdown",
   "metadata": {},
   "source": [
    "## Борьба с дисбалансом"
   ]
  },
  {
   "cell_type": "markdown",
   "metadata": {},
   "source": [
    "По сути, нам оптуна уже нашла оптимальный параметр балансировки - корень коэффициентов баланса (SQRTBalanced)."
   ]
  },
  {
   "cell_type": "code",
   "execution_count": 85,
   "metadata": {},
   "outputs": [
    {
     "name": "stdout",
     "output_type": "stream",
     "text": [
      "================== модель Catboost, auto_class_weights_options: Balanced===========================\n",
      "F1 Score: 0.6067864271457085\n"
     ]
    },
    {
     "data": {
      "image/png": "[encoded data removed]",
      "text/plain": [
       "<Figure size 432x288 with 2 Axes>"
      ]
     },
     "metadata": {},
     "output_type": "display_data"
    },
    {
     "name": "stdout",
     "output_type": "stream",
     "text": [
      "Class 0: Precision: 0.9266903914590747, Recall: 0.8173258003766478, F1-Score: 0.8685790527018011, Support: 1593\n",
      "Class 1: Precision: 0.5109243697478991, Recall: 0.7469287469287469, F1-Score: 0.6067864271457085, Support: 407\n",
      "================== модель Catboost, auto_class_weights_options: None===========================\n",
      "F1 Score: 0.5457364341085271\n"
     ]
    },
    {
     "data": {
      "image/png": "[encoded data removed]",
      "text/plain": [
       "<Figure size 432x288 with 2 Axes>"
      ]
     },
     "metadata": {},
     "output_type": "display_data"
    },
    {
     "name": "stdout",
     "output_type": "stream",
     "text": [
      "Class 0: Precision: 0.8688989784335982, Recall: 0.9610797237915882, F1-Score: 0.9126676602086439, Support: 1593\n",
      "Class 1: Precision: 0.7394957983193278, Recall: 0.43243243243243246, F1-Score: 0.5457364341085271, Support: 407\n",
      "================== модель Catboost, auto_class_weights_options: SqrtBalanced===========================\n",
      "F1 Score: 0.6190476190476191\n"
     ]
    },
    {
     "data": {
      "image/png": "[encoded data removed]",
      "text/plain": [
       "<Figure size 432x288 with 2 Axes>"
      ]
     },
     "metadata": {},
     "output_type": "display_data"
    },
    {
     "name": "stdout",
     "output_type": "stream",
     "text": [
      "Class 0: Precision: 0.8952150211992732, Recall: 0.9278091650973007, F1-Score: 0.9112207151664612, Support: 1593\n",
      "Class 1: Precision: 0.670487106017192, Recall: 0.5749385749385749, F1-Score: 0.6190476190476191, Support: 407\n"
     ]
    }
   ],
   "source": [
    "common_params = {\n",
    "    'verbose': False,\n",
    "    'task_type': 'CPU',\n",
    "    'random_state': 12345,\n",
    "    'iterations': 2564,\n",
    "    'learning_rate': 0.004238642797418927,\n",
    "    'depth': 4,\n",
    "    'l2_leaf_reg': 16.10483871000087,\n",
    "    'random_strength': 0.7871780792528231,\n",
    "    'bagging_temperature': 0.007801378108428292,\n",
    "    'od_type': 'Iter',\n",
    "    'od_wait': 28\n",
    "}\n",
    "\n",
    "auto_class_weights_options = ['Balanced', None, 'SqrtBalanced']\n",
    "\n",
    "for weight_option in auto_class_weights_options:\n",
    "    params = common_params.copy()\n",
    "    params['auto_class_weights'] = weight_option\n",
    "    clf = CatBoostClassifier(**params)\n",
    "\n",
    "    pipeline = Pipeline(steps=[\n",
    "        ('preprocess', preprocessor),\n",
    "        ('classofier', clf)\n",
    "    ])\n",
    "    pipeline.fit(X_train, y_train)\n",
    "    predictions = pipeline.predict(X_val)\n",
    "    print(f\"================== модель Catboost, auto_class_weights_options: {weight_option}===========================\")\n",
    "    model_eval(y_val, predictions)"
   ]
  },
  {
   "cell_type": "markdown",
   "metadata": {},
   "source": [
    "На исходной тестовой выборке f1 составил 61.9%. Важно то, что простая балансировка и отсутствие какой-либо балансировки дает хуже результат и метрика падает.\n",
    "\n",
    "--- \n",
    "\n",
    "Вероятно этот подход к балансировке дает наилучший результат. Однако проверим тахнологии оверсемплинга и даунсумплинга. Хорошим решением было бы использовать специализированные для этого библиотеки, например - imblearn.over_sampling, imblearn.under_sampling. Они хороши тем, что их можно интегрировать в пайплайн sklearn, точнее сделать над ним обертку imblearn-ом.  \n",
    "Но в текущей работе проделаем это вручную для закрепления пройденного материала."
   ]
  },
  {
   "cell_type": "code",
   "execution_count": 105,
   "metadata": {},
   "outputs": [],
   "source": [
    "def downsampling(features, target):\n",
    "    \"\"\"Функция уменьшения размеров отрицательного класса до количества семплов положительного.\n",
    "    не оптимизирована на случаи, если положительного больше, чем отрицательного и т.п. т.к. работаем\n",
    "    с конкретным случаем.\"\"\"\n",
    "    features_ones = features[target == 1]\n",
    "    features_zeros = features[target == 0]\n",
    "    target_ones = target[target == 1]\n",
    "    target_zeros = target[target == 0]\n",
    "    \n",
    "    features_ds = pd.concat(\n",
    "        [features_zeros.sample(n=len(target_ones), random_state=12345)] + [features_ones]\n",
    "    )\n",
    "    target_ds = pd.concat(\n",
    "        [target_zeros.sample(n=len(target_ones), random_state=12345)] + [target_ones]\n",
    "    )\n",
    "    \n",
    "    features_ds, target_ds = shuffle(features_ds, target_ds, random_state=12345)\n",
    "    \n",
    "    return features_ds, target_ds"
   ]
  },
  {
   "cell_type": "code",
   "execution_count": 106,
   "metadata": {},
   "outputs": [],
   "source": [
    "X_trainds, y_trainds = downsampling(X_train, y_train)"
   ]
  },
  {
   "cell_type": "code",
   "execution_count": 116,
   "metadata": {},
   "outputs": [
    {
     "data": {
      "image/png": "[encoded data removed]",
      "text/plain": [
       "<Figure size 432x288 with 1 Axes>"
      ]
     },
     "metadata": {},
     "output_type": "display_data"
    }
   ],
   "source": [
    "class_counts = y_trainds.value_counts()\n",
    "plt.pie(class_counts, labels=['Остались', 'Ушли'], autopct=lambda p: '{:.1f}%\\n({:d} семплов)'.format(p, int(p/100*sum(class_counts))))\n",
    "plt.title('Соотношение клиентов\\n после downsampling: Остались vs Ушли', fontsize=14)\n",
    "plt.show()"
   ]
  },
  {
   "cell_type": "code",
   "execution_count": 109,
   "metadata": {},
   "outputs": [
    {
     "name": "stdout",
     "output_type": "stream",
     "text": [
      "================== модель Catboost c downsampling===========================\n",
      "F1 Score: 0.6066985645933014\n"
     ]
    },
    {
     "data": {
      "image/png": "[encoded data removed]",
      "text/plain": [
       "<Figure size 432x288 with 2 Axes>"
      ]
     },
     "metadata": {},
     "output_type": "display_data"
    },
    {
     "name": "stdout",
     "output_type": "stream",
     "text": [
      "Class 0: Precision: 0.933920704845815, Recall: 0.7984934086629002, F1-Score: 0.8609137055837564, Support: 1593\n",
      "Class 1: Precision: 0.49686520376175547, Recall: 0.7788697788697788, F1-Score: 0.6066985645933014, Support: 407\n"
     ]
    }
   ],
   "source": [
    "pipeline.fit(X_trainds, y_trainds)\n",
    "predictions = pipeline.predict(X_val)\n",
    "print(f\"================== модель Catboost c downsampling===========================\")\n",
    "model_eval(y_val, predictions)"
   ]
  },
  {
   "cell_type": "code",
   "execution_count": 110,
   "metadata": {},
   "outputs": [],
   "source": [
    "def oversampling(features, target):\n",
    "    \"\"\"Функция увеличения посредством повторения размеров положительного класса до количества семплов отрицательного.\n",
    "    не оптимизирована на случаи, если положительного больше, чем отрицательного и т.п. т.к. работаем\n",
    "    с конкретным случаем.\"\"\"\n",
    "    features_zeros = features[target == 0]\n",
    "    features_ones = features[target == 1]\n",
    "    target_zeros = target[target == 0]\n",
    "    target_ones = target[target == 1]\n",
    "\n",
    "    repeat = len(features_zeros) // len(features_ones)\n",
    "\n",
    "    features_upsampled = pd.concat([features_zeros] + [features_ones] * repeat)\n",
    "    target_upsampled = pd.concat([target_zeros] + [target_ones] * repeat)\n",
    "    \n",
    "    features_upsampled, target_upsampled = sklearn.utils.shuffle(\n",
    "        features_upsampled, target_upsampled, random_state=12345)\n",
    "    \n",
    "    return features_upsampled, target_upsampled"
   ]
  },
  {
   "cell_type": "code",
   "execution_count": 111,
   "metadata": {},
   "outputs": [],
   "source": [
    "X_trainos, y_trainos = oversampling(X_train, y_train)"
   ]
  },
  {
   "cell_type": "code",
   "execution_count": 117,
   "metadata": {},
   "outputs": [
    {
     "data": {
      "image/png": "[encoded data removed]",
      "text/plain": [
       "<Figure size 432x288 with 1 Axes>"
      ]
     },
     "metadata": {},
     "output_type": "display_data"
    }
   ],
   "source": [
    "class_counts = y_trainos.value_counts()\n",
    "plt.pie(class_counts, labels=['Остались', 'Ушли'], autopct=lambda p: '{:.1f}%\\n({:d} семплов)'.format(p, int(p/100*sum(class_counts))))\n",
    "plt.title('Соотношение клиентов\\n после downsampling: Остались vs Ушли', fontsize=14)\n",
    "plt.show()"
   ]
  },
  {
   "cell_type": "code",
   "execution_count": 118,
   "metadata": {},
   "outputs": [
    {
     "name": "stdout",
     "output_type": "stream",
     "text": [
      "================== модель Catboost c oversampling===========================\n",
      "F1 Score: 0.6228813559322033\n"
     ]
    },
    {
     "data": {
      "image/png": "[encoded data removed]",
      "text/plain": [
       "<Figure size 432x288 with 2 Axes>"
      ]
     },
     "metadata": {},
     "output_type": "display_data"
    },
    {
     "name": "stdout",
     "output_type": "stream",
     "text": [
      "Class 0: Precision: 0.9227614490772386, Recall: 0.847457627118644, F1-Score: 0.8835078534031413, Support: 1593\n",
      "Class 1: Precision: 0.547486033519553, Recall: 0.7223587223587223, F1-Score: 0.6228813559322033, Support: 407\n"
     ]
    }
   ],
   "source": [
    "pipeline.fit(X_trainos, y_trainos)\n",
    "predictions = pipeline.predict(X_val)\n",
    "print(f\"================== модель Catboost c oversampling===========================\")\n",
    "model_eval(y_val, predictions)"
   ]
  },
  {
   "cell_type": "markdown",
   "metadata": {},
   "source": [
    "---\n",
    "Предположение о том, что модель использует уже оптимальный метод балансировки, найденный в рамках поиска гиперпараметров, оказалось верным. Ни даунсемплинг (или андерсемплинг), ни оверсемлинг (или апсемплинг) не дали результата, ухудшив метрики модели. "
   ]
  },
  {
   "cell_type": "markdown",
   "metadata": {},
   "source": [
    "## Тестирование модели"
   ]
  },
  {
   "cell_type": "code",
   "execution_count": 120,
   "metadata": {},
   "outputs": [
    {
     "name": "stdout",
     "output_type": "stream",
     "text": [
      "================== модель Catboost ===========================\n",
      "F1 Score: 0.6616352201257862\n"
     ]
    },
    {
     "data": {
      "image/png": "[encoded data removed]",
      "text/plain": [
       "<Figure size 432x288 with 2 Axes>"
      ]
     },
     "metadata": {},
     "output_type": "display_data"
    },
    {
     "name": "stdout",
     "output_type": "stream",
     "text": [
      "Class 0: Precision: 0.9101053936763794, Recall: 0.9221105527638191, F1-Score: 0.9160686427457098, Support: 1592\n",
      "Class 1: Precision: 0.6795865633074936, Recall: 0.6446078431372549, F1-Score: 0.6616352201257862, Support: 408\n"
     ]
    }
   ],
   "source": [
    "# еще раз повторим лучший вариант модели\n",
    "common_params = {\n",
    "    'verbose': False,\n",
    "    'task_type': 'CPU',\n",
    "    'random_state': 12345,\n",
    "    'iterations': 2564,\n",
    "    'learning_rate': 0.004238642797418927,\n",
    "    'depth': 4,\n",
    "    'l2_leaf_reg': 16.10483871000087,\n",
    "    'random_strength': 0.7871780792528231,\n",
    "    'bagging_temperature': 0.007801378108428292,\n",
    "    'od_type': 'Iter',\n",
    "    'od_wait': 28,\n",
    "    'auto_class_weights': 'SqrtBalanced'\n",
    "    \n",
    "}\n",
    "\n",
    "clf = CatBoostClassifier(**params)\n",
    "\n",
    "pipeline = Pipeline(steps=[\n",
    "    ('preprocess', preprocessor),\n",
    "    ('classofier', clf)\n",
    "])\n",
    "pipeline.fit(X_train, y_train)\n",
    "predictions = pipeline.predict(X_test)\n",
    "print(f\"================== модель Catboost ===========================\")\n",
    "model_eval(y_test, predictions)"
   ]
  },
  {
   "cell_type": "markdown",
   "metadata": {},
   "source": [
    "Посмотрим насколько изменилась ROC AUC."
   ]
  },
  {
   "cell_type": "code",
   "execution_count": 121,
   "metadata": {},
   "outputs": [
    {
     "name": "stdout",
     "output_type": "stream",
     "text": [
      "F1 Score: 0.22418136020151133\n",
      "ROC AUC Score: 0.8673079859520538\n"
     ]
    },
    {
     "data": {
      "image/png": "[encoded data removed]",
      "text/plain": [
       "<Figure size 432x288 with 1 Axes>"
      ]
     },
     "metadata": {},
     "output_type": "display_data"
    }
   ],
   "source": [
    "probabilities = pipeline.predict_proba(X_val)[:, 1] # вероятности для класса 1\n",
    "f1 = f1_score(y_test, predictions)\n",
    "roc_auc = roc_auc_score(y_val, probabilities)\n",
    "print(f'F1 Score: {f1}')\n",
    "print(f'ROC AUC Score: {roc_auc}')\n",
    "\n",
    "# Расчет кривой ROC\n",
    "fpr, tpr, thresholds = roc_curve(y_val, probabilities)\n",
    "roc_auc = auc(fpr, tpr)\n",
    "\n",
    "# Построение кривой ROC\n",
    "plt.figure()\n",
    "plt.plot(fpr, tpr, color='darkorange', lw=2, label='ROC curve (area = %0.2f)' % roc_auc)\n",
    "plt.plot([0, 1], [0, 1], color='navy', lw=2, linestyle='--')\n",
    "plt.xlim([0.0, 1.0])\n",
    "plt.ylim([0.0, 1.05])\n",
    "plt.xlabel('False Positive Rate')\n",
    "plt.ylabel('True Positive Rate')\n",
    "plt.title('Receiver Operating Characteristic')\n",
    "plt.legend(loc=\"lower right\")\n",
    "plt.show()"
   ]
  },
  {
   "cell_type": "markdown",
   "metadata": {},
   "source": [
    "Работа с балансом классов не сильно повлиял на эту метрику. Если f1 от балансировки подросла на 6%, то ROC AUK изменялась на 0.7%."
   ]
  },
  {
   "cell_type": "markdown",
   "metadata": {},
   "source": [
    "## Вывод"
   ]
  },
  {
   "cell_type": "markdown",
   "metadata": {},
   "source": [
    "В работу получены банковские данные по клиентам компании. Эти данные содержат информацию о поведении пользователя в рамках услуг банка. Среди параметров, описывающих клиента, есть информация о качестве и количестве используемых услуг, интенсивности и объемах вовлеченности пользователя, а также о итоговом решении клиента пользоваться или отказаться от услуг банка. Этот последний параметр является целевым, и наша задача разработать алгоритм классификации, который способен отличить первых от вторых с некоторой достаточной вероятностью. Метрикой правильности работы модели является f1 мера, которая является среднегармоническим между точностью и полнотой классификации модели.  \n",
    "\n",
    "Был проведен первичный анализ и ознакомление с данными, который включал в себя следующий порядок:\n",
    "\n",
    "- загрузка и визуальная оценка состава данных на примере нескольких семплов;\n",
    "- посмотр общей сводной информации по набору данных: тип колонок, количество элементов и наличие пропусков и т.п.;\n",
    "- оценка статистических параметров выборки;\n",
    "- исследование выбросов и аномальных значений;\n",
    "- исследование на наличие явных/неявных дубликатов;\n",
    "- оценка признаков и их взаимного влияние друг на друга;\n",
    "- оценка сбалансированности выборки.\n",
    "\n",
    "По итогу первичного анализа сделаны следующие выводы:\n",
    "\n",
    "- рассмотрено распределение данных - большинство из которых не является нормальным, некоторые является смещенными вправо.\n",
    "- расмотрены диаграммы размаха. Ряд параметров имеют выбросы по IQR (межквантильному размаху). Однако, это достаточно распространенная ситуация в такого рода данных и не может являться прямым указанием на аномалии в данных. Данные выбросы можно обработать с ипользованием средств масштабирования, ориентированных на преобразование данных исходя из значений IQR, таких как RobustScaler.\n",
    "- рассмотрена матрица корреляций. Линейной зависимости в данных не наблюдается. Это может быть не самым позитивным показателем, т.к. зависимости между входными переменными и таргетом в таком случае являются нелинейными, если они вообще есть. Это может усложнить работу классификатора, и этот факт необходимо учитывать при выборе модели для обучения.\n",
    "- дубликатов нет ни явных ни неявных.\n",
    "- наблюдается дисбаланс классов - семплов положительного класса всего 20% от всего набора данных.\n",
    "\n",
    "Далее нам необходимо было проделать следующие шаги по подготовке обучабщего и тестового набора данных:\n",
    "- очистим данные при необходимости;\n",
    "- удалим ненужные, по нашему мнению, колонки данных;\n",
    "- закодируем методом OHE категориальные колонки;\n",
    "- разделим на обучающую и тестовую выборки;\n",
    "- обучим scaler и imputer, заполним пропуски и отмасштабируем данные.\n",
    "\n",
    "Для препроцессинга набора данных проделаны шаги, формирующие препроцессинг в составе будущего пайплайна. В рамках такого препроцессинга собраны следующие шаги:\n",
    "- заполнили пропуски\n",
    "- отмасштабировали числовые параметры\n",
    "- категориальные перевели в булевы методом горячего кодирования\n",
    "- булевы колонки не трансформировали.\n",
    "\n",
    "Использование пайплайна и колумн трансформера очень удобно, потому что в одном месте собраны все препроцессовые функции для данных, мы их видем и можем проще и быстрее контролиировать. Также, он имеет методы fit и predict, и он понимает, какие трансформации можно применять в трейне, но нельзя к тесту.  \n",
    "Далее представлена структурная схема препроцессига:"
   ]
  },
  {
   "cell_type": "code",
   "execution_count": 65,
   "metadata": {
    "scrolled": true
   },
   "outputs": [
    {
     "data": {
      "text/html": [
       "<style>#sk-container-id-2 {color: black;}#sk-container-id-2 pre{padding: 0;}#sk-container-id-2 div.sk-toggleable {background-color: white;}#sk-container-id-2 label.sk-toggleable__label {cursor: pointer;display: block;width: 100%;margin-bottom: 0;padding: 0.3em;box-sizing: border-box;text-align: center;}#sk-container-id-2 label.sk-toggleable__label-arrow:before {content: \"▸\";float: left;margin-right: 0.25em;color: #696969;}#sk-container-id-2 label.sk-toggleable__label-arrow:hover:before {color: black;}#sk-container-id-2 div.sk-estimator:hover label.sk-toggleable__label-arrow:before {color: black;}#sk-container-id-2 div.sk-toggleable__content {max-height: 0;max-width: 0;overflow: hidden;text-align: left;background-color: #f0f8ff;}#sk-container-id-2 div.sk-toggleable__content pre {margin: 0.2em;color: black;border-radius: 0.25em;background-color: #f0f8ff;}#sk-container-id-2 input.sk-toggleable__control:checked~div.sk-toggleable__content {max-height: 200px;max-width: 100%;overflow: auto;}#sk-container-id-2 input.sk-toggleable__control:checked~label.sk-toggleable__label-arrow:before {content: \"▾\";}#sk-container-id-2 div.sk-estimator input.sk-toggleable__control:checked~label.sk-toggleable__label {background-color: #d4ebff;}#sk-container-id-2 div.sk-label input.sk-toggleable__control:checked~label.sk-toggleable__label {background-color: #d4ebff;}#sk-container-id-2 input.sk-hidden--visually {border: 0;clip: rect(1px 1px 1px 1px);clip: rect(1px, 1px, 1px, 1px);height: 1px;margin: -1px;overflow: hidden;padding: 0;position: absolute;width: 1px;}#sk-container-id-2 div.sk-estimator {font-family: monospace;background-color: #f0f8ff;border: 1px dotted black;border-radius: 0.25em;box-sizing: border-box;margin-bottom: 0.5em;}#sk-container-id-2 div.sk-estimator:hover {background-color: #d4ebff;}#sk-container-id-2 div.sk-parallel-item::after {content: \"\";width: 100%;border-bottom: 1px solid gray;flex-grow: 1;}#sk-container-id-2 div.sk-label:hover label.sk-toggleable__label {background-color: #d4ebff;}#sk-container-id-2 div.sk-serial::before {content: \"\";position: absolute;border-left: 1px solid gray;box-sizing: border-box;top: 0;bottom: 0;left: 50%;z-index: 0;}#sk-container-id-2 div.sk-serial {display: flex;flex-direction: column;align-items: center;background-color: white;padding-right: 0.2em;padding-left: 0.2em;position: relative;}#sk-container-id-2 div.sk-item {position: relative;z-index: 1;}#sk-container-id-2 div.sk-parallel {display: flex;align-items: stretch;justify-content: center;background-color: white;position: relative;}#sk-container-id-2 div.sk-item::before, #sk-container-id-2 div.sk-parallel-item::before {content: \"\";position: absolute;border-left: 1px solid gray;box-sizing: border-box;top: 0;bottom: 0;left: 50%;z-index: -1;}#sk-container-id-2 div.sk-parallel-item {display: flex;flex-direction: column;z-index: 1;position: relative;background-color: white;}#sk-container-id-2 div.sk-parallel-item:first-child::after {align-self: flex-end;width: 50%;}#sk-container-id-2 div.sk-parallel-item:last-child::after {align-self: flex-start;width: 50%;}#sk-container-id-2 div.sk-parallel-item:only-child::after {width: 0;}#sk-container-id-2 div.sk-dashed-wrapped {border: 1px dashed gray;margin: 0 0.4em 0.5em 0.4em;box-sizing: border-box;padding-bottom: 0.4em;background-color: white;}#sk-container-id-2 div.sk-label label {font-family: monospace;font-weight: bold;display: inline-block;line-height: 1.2em;}#sk-container-id-2 div.sk-label-container {text-align: center;}#sk-container-id-2 div.sk-container {/* jupyter's `normalize.less` sets `[hidden] { display: none; }` but bootstrap.min.css set `[hidden] { display: none !important; }` so we also need the `!important` here to be able to override the default hidden behavior on the sphinx rendered scikit-learn.org. See: https://github.com/scikit-learn/scikit-learn/issues/21755 */display: inline-block !important;position: relative;}#sk-container-id-2 div.sk-text-repr-fallback {display: none;}</style><div id=\"sk-container-id-2\" class=\"sk-top-container\"><div class=\"sk-text-repr-fallback\"><pre>ColumnTransformer(transformers=[(&#x27;cat&#x27;,\n",
       "                                 Pipeline(steps=[(&#x27;onehot&#x27;,\n",
       "                                                  OneHotEncoder(drop=&#x27;first&#x27;,\n",
       "                                                                handle_unknown=&#x27;ignore&#x27;))]),\n",
       "                                 [&#x27;Geography&#x27;, &#x27;Gender&#x27;]),\n",
       "                                (&#x27;num&#x27;,\n",
       "                                 Pipeline(steps=[(&#x27;imputer&#x27;,\n",
       "                                                  IterativeImputer(random_state=12345)),\n",
       "                                                 (&#x27;scaler&#x27;, RobustScaler())]),\n",
       "                                 [&#x27;CreditScore&#x27;, &#x27;Age&#x27;, &#x27;Tenure&#x27;, &#x27;Balance&#x27;,\n",
       "                                  &#x27;NumOfProducts&#x27;, &#x27;EstimatedSalary&#x27;]),\n",
       "                                (&#x27;bool&#x27;,\n",
       "                                 Pipeline(steps=[(&#x27;noop&#x27;,\n",
       "                                                  FunctionTransformer())]),\n",
       "                                 [&#x27;HasCrCard&#x27;, &#x27;IsActiveMember&#x27;])])</pre><b>In a Jupyter environment, please rerun this cell to show the HTML representation or trust the notebook. <br />On GitHub, the HTML representation is unable to render, please try loading this page with nbviewer.org.</b></div><div class=\"sk-container\" hidden><div class=\"sk-item sk-dashed-wrapped\"><div class=\"sk-label-container\"><div class=\"sk-label sk-toggleable\"><input class=\"sk-toggleable__control sk-hidden--visually\" id=\"sk-estimator-id-11\" type=\"checkbox\" ><label for=\"sk-estimator-id-11\" class=\"sk-toggleable__label sk-toggleable__label-arrow\">ColumnTransformer</label><div class=\"sk-toggleable__content\"><pre>ColumnTransformer(transformers=[(&#x27;cat&#x27;,\n",
       "                                 Pipeline(steps=[(&#x27;onehot&#x27;,\n",
       "                                                  OneHotEncoder(drop=&#x27;first&#x27;,\n",
       "                                                                handle_unknown=&#x27;ignore&#x27;))]),\n",
       "                                 [&#x27;Geography&#x27;, &#x27;Gender&#x27;]),\n",
       "                                (&#x27;num&#x27;,\n",
       "                                 Pipeline(steps=[(&#x27;imputer&#x27;,\n",
       "                                                  IterativeImputer(random_state=12345)),\n",
       "                                                 (&#x27;scaler&#x27;, RobustScaler())]),\n",
       "                                 [&#x27;CreditScore&#x27;, &#x27;Age&#x27;, &#x27;Tenure&#x27;, &#x27;Balance&#x27;,\n",
       "                                  &#x27;NumOfProducts&#x27;, &#x27;EstimatedSalary&#x27;]),\n",
       "                                (&#x27;bool&#x27;,\n",
       "                                 Pipeline(steps=[(&#x27;noop&#x27;,\n",
       "                                                  FunctionTransformer())]),\n",
       "                                 [&#x27;HasCrCard&#x27;, &#x27;IsActiveMember&#x27;])])</pre></div></div></div><div class=\"sk-parallel\"><div class=\"sk-parallel-item\"><div class=\"sk-item\"><div class=\"sk-label-container\"><div class=\"sk-label sk-toggleable\"><input class=\"sk-toggleable__control sk-hidden--visually\" id=\"sk-estimator-id-12\" type=\"checkbox\" ><label for=\"sk-estimator-id-12\" class=\"sk-toggleable__label sk-toggleable__label-arrow\">cat</label><div class=\"sk-toggleable__content\"><pre>[&#x27;Geography&#x27;, &#x27;Gender&#x27;]</pre></div></div></div><div class=\"sk-serial\"><div class=\"sk-item\"><div class=\"sk-serial\"><div class=\"sk-item\"><div class=\"sk-estimator sk-toggleable\"><input class=\"sk-toggleable__control sk-hidden--visually\" id=\"sk-estimator-id-13\" type=\"checkbox\" ><label for=\"sk-estimator-id-13\" class=\"sk-toggleable__label sk-toggleable__label-arrow\">OneHotEncoder</label><div class=\"sk-toggleable__content\"><pre>OneHotEncoder(drop=&#x27;first&#x27;, handle_unknown=&#x27;ignore&#x27;)</pre></div></div></div></div></div></div></div></div><div class=\"sk-parallel-item\"><div class=\"sk-item\"><div class=\"sk-label-container\"><div class=\"sk-label sk-toggleable\"><input class=\"sk-toggleable__control sk-hidden--visually\" id=\"sk-estimator-id-14\" type=\"checkbox\" ><label for=\"sk-estimator-id-14\" class=\"sk-toggleable__label sk-toggleable__label-arrow\">num</label><div class=\"sk-toggleable__content\"><pre>[&#x27;CreditScore&#x27;, &#x27;Age&#x27;, &#x27;Tenure&#x27;, &#x27;Balance&#x27;, &#x27;NumOfProducts&#x27;, &#x27;EstimatedSalary&#x27;]</pre></div></div></div><div class=\"sk-serial\"><div class=\"sk-item\"><div class=\"sk-serial\"><div class=\"sk-item\"><div class=\"sk-estimator sk-toggleable\"><input class=\"sk-toggleable__control sk-hidden--visually\" id=\"sk-estimator-id-15\" type=\"checkbox\" ><label for=\"sk-estimator-id-15\" class=\"sk-toggleable__label sk-toggleable__label-arrow\">IterativeImputer</label><div class=\"sk-toggleable__content\"><pre>IterativeImputer(random_state=12345)</pre></div></div></div><div class=\"sk-item\"><div class=\"sk-estimator sk-toggleable\"><input class=\"sk-toggleable__control sk-hidden--visually\" id=\"sk-estimator-id-16\" type=\"checkbox\" ><label for=\"sk-estimator-id-16\" class=\"sk-toggleable__label sk-toggleable__label-arrow\">RobustScaler</label><div class=\"sk-toggleable__content\"><pre>RobustScaler()</pre></div></div></div></div></div></div></div></div><div class=\"sk-parallel-item\"><div class=\"sk-item\"><div class=\"sk-label-container\"><div class=\"sk-label sk-toggleable\"><input class=\"sk-toggleable__control sk-hidden--visually\" id=\"sk-estimator-id-17\" type=\"checkbox\" ><label for=\"sk-estimator-id-17\" class=\"sk-toggleable__label sk-toggleable__label-arrow\">bool</label><div class=\"sk-toggleable__content\"><pre>[&#x27;HasCrCard&#x27;, &#x27;IsActiveMember&#x27;]</pre></div></div></div><div class=\"sk-serial\"><div class=\"sk-item\"><div class=\"sk-serial\"><div class=\"sk-item\"><div class=\"sk-estimator sk-toggleable\"><input class=\"sk-toggleable__control sk-hidden--visually\" id=\"sk-estimator-id-18\" type=\"checkbox\" ><label for=\"sk-estimator-id-18\" class=\"sk-toggleable__label sk-toggleable__label-arrow\">FunctionTransformer</label><div class=\"sk-toggleable__content\"><pre>FunctionTransformer()</pre></div></div></div></div></div></div></div></div></div></div></div></div>"
      ],
      "text/plain": [
       "ColumnTransformer(transformers=[('cat',\n",
       "                                 Pipeline(steps=[('onehot',\n",
       "                                                  OneHotEncoder(drop='first',\n",
       "                                                                handle_unknown='ignore'))]),\n",
       "                                 ['Geography', 'Gender']),\n",
       "                                ('num',\n",
       "                                 Pipeline(steps=[('imputer',\n",
       "                                                  IterativeImputer(random_state=12345)),\n",
       "                                                 ('scaler', RobustScaler())]),\n",
       "                                 ['CreditScore', 'Age', 'Tenure', 'Balance',\n",
       "                                  'NumOfProducts', 'EstimatedSalary']),\n",
       "                                ('bool',\n",
       "                                 Pipeline(steps=[('noop',\n",
       "                                                  FunctionTransformer())]),\n",
       "                                 ['HasCrCard', 'IsActiveMember'])])"
      ]
     },
     "execution_count": 65,
     "metadata": {},
     "output_type": "execute_result"
    }
   ],
   "source": [
    "preprocessor"
   ]
  },
  {
   "cell_type": "markdown",
   "metadata": {},
   "source": [
    "Для первичного обучения были выбраны 3 основные модели и применены \"из коробки\": логистическая регрессия, случайный лес, catBoost. Получены следующие показатели качества моделей по f1: 0,29 для логистической регрессии, 0.57 для случайного леса, 0.60 для catboost.  \n",
    "Для дальнейшего анализа выбрана модель catboost, которую мы запустили для поиска её гиперпараметров. Полученная модель имеет показатель качества f1 в районе 0.66.  \n",
    "Модель с оптимизированными гиперараметрами была прверена на несколько вариантов балансировки - поиск коэффициентов для семплов и их использование, взятие от этих коэффициентов кадратного корня, или оставить выборку не сбалансированной. В итоге, вариант, предложенный оптуной, с автоматической балансировкой корнем от весов (SQRTBalanced) является наиболее оптимальным.  \n",
    "Была проведена дополнительная \"ручная\" балансировка выборки методами оверсемплинг и даунсемплинг, которые показали ухудшение исходных метрик catboost.  \n",
    "Итоговая f1 мера полученной модели - 66%, что выше ожидаемой и требуемой по условию задачи - 59%."
   ]
  }
 ],
 "metadata": {
  "ExecuteTimeLog": [
   {
    "duration": 414,
    "start_time": "2023-11-27T06:23:20.056Z"
   },
   {
    "duration": 103,
    "start_time": "2023-11-27T06:24:45.696Z"
   },
   {
    "duration": 13,
    "start_time": "2023-11-27T06:31:35.030Z"
   },
   {
    "duration": 39,
    "start_time": "2023-11-27T06:33:17.391Z"
   },
   {
    "duration": 1383,
    "start_time": "2023-11-27T06:47:36.987Z"
   },
   {
    "duration": 1456,
    "start_time": "2023-11-27T06:48:02.530Z"
   },
   {
    "duration": 1415,
    "start_time": "2023-11-27T06:48:17.739Z"
   },
   {
    "duration": 1359,
    "start_time": "2023-11-27T06:48:37.566Z"
   },
   {
    "duration": 1747,
    "start_time": "2023-11-27T06:48:50.181Z"
   },
   {
    "duration": 5,
    "start_time": "2023-11-27T07:01:00.249Z"
   },
   {
    "duration": 71,
    "start_time": "2023-11-27T07:03:36.604Z"
   },
   {
    "duration": 997,
    "start_time": "2023-11-27T07:04:10.043Z"
   },
   {
    "duration": 208,
    "start_time": "2023-11-27T07:05:36.930Z"
   },
   {
    "duration": 2,
    "start_time": "2023-11-27T07:06:41.571Z"
   },
   {
    "duration": 481,
    "start_time": "2023-11-27T07:06:50.286Z"
   },
   {
    "duration": 707,
    "start_time": "2023-11-29T20:57:09.050Z"
   },
   {
    "duration": 93,
    "start_time": "2023-11-29T20:57:09.760Z"
   },
   {
    "duration": 12,
    "start_time": "2023-11-29T20:57:10.008Z"
   },
   {
    "duration": 35,
    "start_time": "2023-11-29T20:57:10.591Z"
   },
   {
    "duration": 1248,
    "start_time": "2023-11-29T20:57:11.106Z"
   },
   {
    "duration": 4,
    "start_time": "2023-11-29T20:57:12.355Z"
   },
   {
    "duration": 421,
    "start_time": "2023-11-29T20:57:12.776Z"
   },
   {
    "duration": 16,
    "start_time": "2023-11-29T20:58:36.977Z"
   },
   {
    "duration": 66,
    "start_time": "2023-11-29T21:08:06.269Z"
   },
   {
    "duration": 439,
    "start_time": "2023-11-29T21:08:11.850Z"
   },
   {
    "duration": 677,
    "start_time": "2023-11-29T21:10:15.665Z"
   },
   {
    "duration": 356,
    "start_time": "2023-11-29T21:11:10.422Z"
   },
   {
    "duration": 387,
    "start_time": "2023-11-29T21:11:17.567Z"
   },
   {
    "duration": 901,
    "start_time": "2023-11-29T21:11:55.173Z"
   },
   {
    "duration": 769,
    "start_time": "2023-11-29T21:12:46.227Z"
   },
   {
    "duration": 839,
    "start_time": "2023-11-29T21:14:10.487Z"
   },
   {
    "duration": 776,
    "start_time": "2023-11-29T21:14:56.336Z"
   },
   {
    "duration": 782,
    "start_time": "2023-11-29T21:15:33.755Z"
   },
   {
    "duration": 1149,
    "start_time": "2023-11-29T21:16:04.260Z"
   },
   {
    "duration": 42,
    "start_time": "2023-11-29T21:19:14.631Z"
   },
   {
    "duration": 11,
    "start_time": "2023-11-29T21:30:25.687Z"
   },
   {
    "duration": 9,
    "start_time": "2023-11-29T21:30:36.712Z"
   },
   {
    "duration": 12,
    "start_time": "2023-11-29T21:32:45.268Z"
   },
   {
    "duration": 8,
    "start_time": "2023-11-29T21:33:26.511Z"
   },
   {
    "duration": 8,
    "start_time": "2023-11-29T21:34:43.283Z"
   },
   {
    "duration": 8,
    "start_time": "2023-11-29T21:34:43.958Z"
   },
   {
    "duration": 8,
    "start_time": "2023-11-29T21:34:44.835Z"
   },
   {
    "duration": 9,
    "start_time": "2023-11-29T21:34:45.413Z"
   },
   {
    "duration": 9,
    "start_time": "2023-11-29T21:38:25.735Z"
   },
   {
    "duration": 7,
    "start_time": "2023-11-29T21:38:28.941Z"
   },
   {
    "duration": 4,
    "start_time": "2023-11-29T21:38:33.726Z"
   },
   {
    "duration": 11,
    "start_time": "2023-11-29T21:39:00.352Z"
   },
   {
    "duration": 8,
    "start_time": "2023-11-29T21:39:37.412Z"
   },
   {
    "duration": 4,
    "start_time": "2023-11-29T21:39:41.393Z"
   },
   {
    "duration": 7,
    "start_time": "2023-11-29T21:40:09.991Z"
   },
   {
    "duration": 4,
    "start_time": "2023-11-29T21:40:24.841Z"
   },
   {
    "duration": 6,
    "start_time": "2023-11-29T21:41:17.482Z"
   },
   {
    "duration": 7,
    "start_time": "2023-11-29T21:42:03.864Z"
   },
   {
    "duration": 4,
    "start_time": "2023-11-29T21:42:07.126Z"
   },
   {
    "duration": 3,
    "start_time": "2023-11-29T21:42:12.385Z"
   },
   {
    "duration": 4,
    "start_time": "2023-11-29T21:42:27.931Z"
   },
   {
    "duration": 4,
    "start_time": "2023-11-29T21:44:15.966Z"
   },
   {
    "duration": 4,
    "start_time": "2023-11-29T21:45:18.303Z"
   },
   {
    "duration": 4,
    "start_time": "2023-11-29T21:45:38.113Z"
   },
   {
    "duration": 4,
    "start_time": "2023-11-29T21:47:02.944Z"
   },
   {
    "duration": 5,
    "start_time": "2023-11-29T21:47:24.787Z"
   },
   {
    "duration": 5,
    "start_time": "2023-11-29T21:49:51.003Z"
   },
   {
    "duration": 7,
    "start_time": "2023-11-29T21:50:21.007Z"
   },
   {
    "duration": 6,
    "start_time": "2023-11-29T21:55:35.333Z"
   },
   {
    "duration": 8,
    "start_time": "2023-11-29T21:55:42.421Z"
   },
   {
    "duration": 5,
    "start_time": "2023-11-29T21:55:58.507Z"
   },
   {
    "duration": 7,
    "start_time": "2023-11-29T21:56:01.931Z"
   },
   {
    "duration": 5,
    "start_time": "2023-11-29T21:56:20.559Z"
   },
   {
    "duration": 5,
    "start_time": "2023-11-29T21:56:37.299Z"
   },
   {
    "duration": 3,
    "start_time": "2023-11-29T21:57:11.106Z"
   },
   {
    "duration": 4,
    "start_time": "2023-11-29T21:57:46.826Z"
   },
   {
    "duration": 4,
    "start_time": "2023-11-29T21:58:10.581Z"
   },
   {
    "duration": 7,
    "start_time": "2023-11-29T21:58:53.466Z"
   },
   {
    "duration": 13,
    "start_time": "2023-11-29T22:00:07.607Z"
   },
   {
    "duration": 7,
    "start_time": "2023-11-29T22:00:19.451Z"
   },
   {
    "duration": 8,
    "start_time": "2023-11-29T22:00:45.890Z"
   },
   {
    "duration": 15,
    "start_time": "2023-11-29T22:25:44.813Z"
   },
   {
    "duration": 17,
    "start_time": "2023-11-29T22:25:59.738Z"
   },
   {
    "duration": 12,
    "start_time": "2023-11-29T22:26:14.727Z"
   },
   {
    "duration": 8,
    "start_time": "2023-11-29T22:33:00.831Z"
   },
   {
    "duration": 8,
    "start_time": "2023-11-29T22:33:13.051Z"
   },
   {
    "duration": 15,
    "start_time": "2023-11-29T22:36:26.261Z"
   },
   {
    "duration": 6,
    "start_time": "2023-11-29T23:11:08.613Z"
   },
   {
    "duration": 4,
    "start_time": "2023-11-29T23:11:19.850Z"
   },
   {
    "duration": 3,
    "start_time": "2023-11-29T23:11:41.585Z"
   },
   {
    "duration": 3,
    "start_time": "2023-11-29T23:11:47.897Z"
   },
   {
    "duration": 3,
    "start_time": "2023-11-29T23:11:51.102Z"
   },
   {
    "duration": 5,
    "start_time": "2023-11-29T23:13:04.465Z"
   },
   {
    "duration": 5,
    "start_time": "2023-11-29T23:13:08.831Z"
   },
   {
    "duration": 6,
    "start_time": "2023-11-29T23:13:33.469Z"
   },
   {
    "duration": 3,
    "start_time": "2023-11-29T23:15:28.265Z"
   },
   {
    "duration": 5,
    "start_time": "2023-11-29T23:18:12.748Z"
   },
   {
    "duration": 5,
    "start_time": "2023-11-29T23:18:26.526Z"
   },
   {
    "duration": 4,
    "start_time": "2023-11-29T23:18:31.927Z"
   },
   {
    "duration": 5,
    "start_time": "2023-11-29T23:18:39.261Z"
   },
   {
    "duration": 4,
    "start_time": "2023-11-29T23:18:49.343Z"
   },
   {
    "duration": 3,
    "start_time": "2023-11-29T23:28:16.340Z"
   },
   {
    "duration": 15,
    "start_time": "2023-11-29T23:28:22.626Z"
   },
   {
    "duration": 4,
    "start_time": "2023-11-29T23:28:32.585Z"
   },
   {
    "duration": 4,
    "start_time": "2023-11-29T23:29:59.286Z"
   },
   {
    "duration": 4,
    "start_time": "2023-11-29T23:30:03.382Z"
   },
   {
    "duration": 4,
    "start_time": "2023-11-29T23:30:14.544Z"
   },
   {
    "duration": 4,
    "start_time": "2023-11-29T23:30:14.891Z"
   },
   {
    "duration": 4,
    "start_time": "2023-11-29T23:30:29.307Z"
   },
   {
    "duration": 3,
    "start_time": "2023-11-29T23:30:30.473Z"
   },
   {
    "duration": 11,
    "start_time": "2023-11-29T23:34:33.646Z"
   },
   {
    "duration": 6,
    "start_time": "2023-11-29T23:34:34.038Z"
   },
   {
    "duration": 5,
    "start_time": "2023-11-29T23:34:44.964Z"
   },
   {
    "duration": 3,
    "start_time": "2023-11-29T23:34:45.722Z"
   },
   {
    "duration": 5,
    "start_time": "2023-11-29T23:40:28.069Z"
   },
   {
    "duration": 9,
    "start_time": "2023-11-29T23:40:53.808Z"
   },
   {
    "duration": 5,
    "start_time": "2023-11-29T23:41:53.265Z"
   },
   {
    "duration": 10,
    "start_time": "2023-11-29T23:41:54.856Z"
   },
   {
    "duration": 4,
    "start_time": "2023-11-29T23:43:00.473Z"
   },
   {
    "duration": 9,
    "start_time": "2023-11-29T23:43:00.991Z"
   },
   {
    "duration": 7,
    "start_time": "2023-11-29T23:44:24.987Z"
   },
   {
    "duration": 4,
    "start_time": "2023-11-29T23:45:04.878Z"
   },
   {
    "duration": 11,
    "start_time": "2023-11-29T23:45:06.049Z"
   },
   {
    "duration": 27,
    "start_time": "2023-11-29T23:45:11.993Z"
   },
   {
    "duration": 896,
    "start_time": "2023-11-29T23:45:52.442Z"
   },
   {
    "duration": 2,
    "start_time": "2023-11-29T23:51:14.661Z"
   },
   {
    "duration": 43,
    "start_time": "2023-11-29T23:51:14.979Z"
   },
   {
    "duration": 9,
    "start_time": "2023-11-29T23:51:16.809Z"
   },
   {
    "duration": 3,
    "start_time": "2023-11-29T23:51:19.001Z"
   },
   {
    "duration": 7,
    "start_time": "2023-11-29T23:51:21.838Z"
   },
   {
    "duration": 4,
    "start_time": "2023-11-29T23:54:16.499Z"
   },
   {
    "duration": 11,
    "start_time": "2023-11-29T23:54:23.089Z"
   },
   {
    "duration": 7,
    "start_time": "2023-11-29T23:56:40.323Z"
   },
   {
    "duration": 12,
    "start_time": "2023-11-29T23:56:41.154Z"
   },
   {
    "duration": 28,
    "start_time": "2023-11-29T23:56:47.740Z"
   },
   {
    "duration": 1387,
    "start_time": "2023-11-29T23:56:51.773Z"
   },
   {
    "duration": 1006,
    "start_time": "2023-11-29T23:57:00.165Z"
   },
   {
    "duration": 3,
    "start_time": "2023-11-29T23:57:06.772Z"
   },
   {
    "duration": 411,
    "start_time": "2023-11-29T23:57:24.898Z"
   },
   {
    "duration": 420,
    "start_time": "2023-11-29T23:57:48.115Z"
   },
   {
    "duration": 901,
    "start_time": "2023-11-29T23:57:48.587Z"
   },
   {
    "duration": 8,
    "start_time": "2023-11-29T23:58:23.150Z"
   },
   {
    "duration": 8,
    "start_time": "2023-11-29T23:58:24.164Z"
   },
   {
    "duration": 9,
    "start_time": "2023-11-29T23:59:20.238Z"
   },
   {
    "duration": 8,
    "start_time": "2023-11-29T23:59:27.159Z"
   },
   {
    "duration": 8,
    "start_time": "2023-11-30T00:00:09.626Z"
   },
   {
    "duration": 7,
    "start_time": "2023-11-30T00:00:22.947Z"
   },
   {
    "duration": 7,
    "start_time": "2023-11-30T00:00:24.993Z"
   },
   {
    "duration": 4,
    "start_time": "2023-11-30T00:00:26.397Z"
   },
   {
    "duration": 4,
    "start_time": "2023-11-30T00:00:28.832Z"
   },
   {
    "duration": 7,
    "start_time": "2023-11-30T00:00:48.167Z"
   },
   {
    "duration": 6,
    "start_time": "2023-11-30T00:00:50.850Z"
   },
   {
    "duration": 3,
    "start_time": "2023-11-30T00:00:59.209Z"
   },
   {
    "duration": 10,
    "start_time": "2023-11-30T00:02:00.345Z"
   },
   {
    "duration": 3,
    "start_time": "2023-11-30T00:02:11.223Z"
   },
   {
    "duration": 3,
    "start_time": "2023-11-30T00:02:16.958Z"
   },
   {
    "duration": 47,
    "start_time": "2023-11-30T20:50:06.931Z"
   },
   {
    "duration": 6,
    "start_time": "2023-11-30T20:50:15.385Z"
   },
   {
    "duration": 6,
    "start_time": "2023-11-30T20:50:33.290Z"
   },
   {
    "duration": 1273,
    "start_time": "2023-11-30T20:50:41.015Z"
   },
   {
    "duration": 103,
    "start_time": "2023-11-30T20:50:42.290Z"
   },
   {
    "duration": 16,
    "start_time": "2023-11-30T20:50:42.395Z"
   },
   {
    "duration": 6,
    "start_time": "2023-11-30T20:50:42.413Z"
   },
   {
    "duration": 14,
    "start_time": "2023-11-30T20:50:42.420Z"
   },
   {
    "duration": 42,
    "start_time": "2023-11-30T20:50:42.435Z"
   },
   {
    "duration": 1054,
    "start_time": "2023-11-30T20:50:42.479Z"
   },
   {
    "duration": 4,
    "start_time": "2023-11-30T20:50:43.535Z"
   },
   {
    "duration": 539,
    "start_time": "2023-11-30T20:50:43.540Z"
   },
   {
    "duration": 932,
    "start_time": "2023-11-30T20:50:44.082Z"
   },
   {
    "duration": 12,
    "start_time": "2023-11-30T20:50:45.015Z"
   },
   {
    "duration": 53,
    "start_time": "2023-11-30T20:50:45.029Z"
   },
   {
    "duration": 20,
    "start_time": "2023-11-30T20:50:45.084Z"
   },
   {
    "duration": 6,
    "start_time": "2023-11-30T20:50:45.105Z"
   },
   {
    "duration": 16,
    "start_time": "2023-11-30T20:50:45.113Z"
   },
   {
    "duration": 10,
    "start_time": "2023-11-30T20:50:45.131Z"
   },
   {
    "duration": 284,
    "start_time": "2023-11-30T20:59:32.936Z"
   },
   {
    "duration": 70,
    "start_time": "2023-11-30T21:00:57.043Z"
   },
   {
    "duration": 9,
    "start_time": "2023-11-30T21:01:07.573Z"
   },
   {
    "duration": 9,
    "start_time": "2023-11-30T21:01:59.596Z"
   },
   {
    "duration": 11,
    "start_time": "2023-11-30T21:02:55.531Z"
   },
   {
    "duration": 9,
    "start_time": "2023-11-30T21:03:21.630Z"
   },
   {
    "duration": 9,
    "start_time": "2023-11-30T21:03:27.328Z"
   },
   {
    "duration": 4,
    "start_time": "2023-11-30T21:03:32.665Z"
   },
   {
    "duration": 5550,
    "start_time": "2023-11-30T21:05:21.586Z"
   },
   {
    "duration": 2198,
    "start_time": "2023-11-30T21:06:05.047Z"
   },
   {
    "duration": 5,
    "start_time": "2023-11-30T21:06:48.708Z"
   },
   {
    "duration": 1032,
    "start_time": "2023-11-30T21:07:00.543Z"
   },
   {
    "duration": 1074,
    "start_time": "2023-11-30T21:08:00.495Z"
   },
   {
    "duration": 5937,
    "start_time": "2023-11-30T21:08:10.441Z"
   },
   {
    "duration": 17,
    "start_time": "2023-11-30T21:08:24.523Z"
   },
   {
    "duration": 13,
    "start_time": "2023-11-30T21:08:33.151Z"
   },
   {
    "duration": 4,
    "start_time": "2023-11-30T21:08:35.248Z"
   },
   {
    "duration": 1337,
    "start_time": "2023-11-30T21:08:53.446Z"
   },
   {
    "duration": 5,
    "start_time": "2023-11-30T21:08:59.232Z"
   },
   {
    "duration": 6,
    "start_time": "2023-11-30T21:10:01.606Z"
   },
   {
    "duration": 5,
    "start_time": "2023-11-30T21:21:56.671Z"
   },
   {
    "duration": 10,
    "start_time": "2023-11-30T21:27:29.683Z"
   },
   {
    "duration": 11,
    "start_time": "2023-11-30T21:27:33.519Z"
   },
   {
    "duration": 10,
    "start_time": "2023-11-30T21:27:34.196Z"
   },
   {
    "duration": 2663,
    "start_time": "2023-11-30T21:27:48.911Z"
   },
   {
    "duration": 4,
    "start_time": "2023-11-30T21:27:51.576Z"
   },
   {
    "duration": 64,
    "start_time": "2023-11-30T21:27:51.581Z"
   },
   {
    "duration": 12,
    "start_time": "2023-11-30T21:27:51.647Z"
   },
   {
    "duration": 9,
    "start_time": "2023-11-30T21:27:51.660Z"
   },
   {
    "duration": 31,
    "start_time": "2023-11-30T21:27:51.670Z"
   },
   {
    "duration": 35,
    "start_time": "2023-11-30T21:27:51.702Z"
   },
   {
    "duration": 1093,
    "start_time": "2023-11-30T21:27:51.738Z"
   },
   {
    "duration": 4,
    "start_time": "2023-11-30T21:27:52.832Z"
   },
   {
    "duration": 497,
    "start_time": "2023-11-30T21:27:52.838Z"
   },
   {
    "duration": 985,
    "start_time": "2023-11-30T21:27:53.337Z"
   },
   {
    "duration": 12,
    "start_time": "2023-11-30T21:27:54.323Z"
   },
   {
    "duration": 19,
    "start_time": "2023-11-30T21:27:54.336Z"
   },
   {
    "duration": 186,
    "start_time": "2023-11-30T21:27:54.357Z"
   },
   {
    "duration": 10,
    "start_time": "2023-11-30T21:27:54.545Z"
   },
   {
    "duration": 8,
    "start_time": "2023-11-30T21:27:54.556Z"
   },
   {
    "duration": 13,
    "start_time": "2023-11-30T21:27:54.565Z"
   },
   {
    "duration": 4,
    "start_time": "2023-11-30T21:29:44.824Z"
   },
   {
    "duration": 4,
    "start_time": "2023-11-30T21:33:41.953Z"
   },
   {
    "duration": 7,
    "start_time": "2023-11-30T21:36:37.444Z"
   },
   {
    "duration": 4,
    "start_time": "2023-11-30T21:36:38.786Z"
   },
   {
    "duration": 4,
    "start_time": "2023-11-30T21:59:13.243Z"
   },
   {
    "duration": 4,
    "start_time": "2023-11-30T22:01:37.786Z"
   },
   {
    "duration": 16,
    "start_time": "2023-11-30T22:03:27.860Z"
   },
   {
    "duration": 2,
    "start_time": "2023-11-30T22:03:34.368Z"
   },
   {
    "duration": 9,
    "start_time": "2023-11-30T22:07:19.875Z"
   },
   {
    "duration": 381,
    "start_time": "2023-11-30T22:07:25.680Z"
   },
   {
    "duration": 11,
    "start_time": "2023-11-30T22:12:59.857Z"
   },
   {
    "duration": 22,
    "start_time": "2023-11-30T22:13:16.899Z"
   },
   {
    "duration": 391,
    "start_time": "2023-11-30T22:14:42.368Z"
   },
   {
    "duration": 19,
    "start_time": "2023-11-30T22:16:05.049Z"
   },
   {
    "duration": 8,
    "start_time": "2023-11-30T22:16:11.808Z"
   },
   {
    "duration": 20,
    "start_time": "2023-11-30T22:16:12.560Z"
   },
   {
    "duration": 5,
    "start_time": "2023-11-30T22:16:40.373Z"
   },
   {
    "duration": 5,
    "start_time": "2023-11-30T22:16:41.562Z"
   },
   {
    "duration": 4,
    "start_time": "2023-11-30T22:16:42.456Z"
   },
   {
    "duration": 6,
    "start_time": "2023-11-30T22:16:43.961Z"
   },
   {
    "duration": 3,
    "start_time": "2023-11-30T22:16:44.461Z"
   },
   {
    "duration": 1374,
    "start_time": "2023-11-30T22:16:45.672Z"
   },
   {
    "duration": 5,
    "start_time": "2023-11-30T22:17:28.381Z"
   },
   {
    "duration": 1433,
    "start_time": "2023-11-30T22:17:38.243Z"
   },
   {
    "duration": 4,
    "start_time": "2023-11-30T22:18:20.942Z"
   },
   {
    "duration": 1368,
    "start_time": "2023-11-30T22:18:34.866Z"
   },
   {
    "duration": 23,
    "start_time": "2023-11-30T22:29:54.685Z"
   },
   {
    "duration": 4,
    "start_time": "2023-11-30T22:31:43.693Z"
   },
   {
    "duration": 103,
    "start_time": "2023-11-30T22:35:58.460Z"
   },
   {
    "duration": 853,
    "start_time": "2023-11-30T22:36:02.601Z"
   },
   {
    "duration": 5,
    "start_time": "2023-11-30T22:37:02.760Z"
   },
   {
    "duration": 2070,
    "start_time": "2023-11-30T22:37:21.611Z"
   },
   {
    "duration": 4705,
    "start_time": "2023-11-30T22:37:39.037Z"
   },
   {
    "duration": 191,
    "start_time": "2023-11-30T22:47:24.611Z"
   },
   {
    "duration": 141,
    "start_time": "2023-11-30T22:48:52.668Z"
   },
   {
    "duration": 200,
    "start_time": "2023-11-30T22:50:36.741Z"
   },
   {
    "duration": 152,
    "start_time": "2023-11-30T22:50:51.033Z"
   },
   {
    "duration": 3,
    "start_time": "2023-11-30T22:56:11.406Z"
   },
   {
    "duration": 3,
    "start_time": "2023-11-30T22:56:12.166Z"
   },
   {
    "duration": 1323,
    "start_time": "2023-11-30T22:56:12.929Z"
   },
   {
    "duration": 2699,
    "start_time": "2023-11-30T22:57:07.436Z"
   },
   {
    "duration": 1270,
    "start_time": "2023-11-30T22:57:10.137Z"
   },
   {
    "duration": 54,
    "start_time": "2023-11-30T22:57:11.410Z"
   },
   {
    "duration": 12,
    "start_time": "2023-11-30T22:57:11.466Z"
   },
   {
    "duration": 8,
    "start_time": "2023-11-30T22:57:11.480Z"
   },
   {
    "duration": 23,
    "start_time": "2023-11-30T22:57:11.489Z"
   },
   {
    "duration": 42,
    "start_time": "2023-11-30T22:57:11.513Z"
   },
   {
    "duration": 1099,
    "start_time": "2023-11-30T22:57:11.556Z"
   },
   {
    "duration": 4,
    "start_time": "2023-11-30T22:57:12.657Z"
   },
   {
    "duration": 499,
    "start_time": "2023-11-30T22:57:12.663Z"
   },
   {
    "duration": 938,
    "start_time": "2023-11-30T22:57:13.164Z"
   },
   {
    "duration": 12,
    "start_time": "2023-11-30T22:57:14.103Z"
   },
   {
    "duration": 8,
    "start_time": "2023-11-30T22:57:14.117Z"
   },
   {
    "duration": 8,
    "start_time": "2023-11-30T22:57:14.127Z"
   },
   {
    "duration": 7,
    "start_time": "2023-11-30T22:57:14.137Z"
   },
   {
    "duration": 4,
    "start_time": "2023-11-30T22:57:14.151Z"
   },
   {
    "duration": 13,
    "start_time": "2023-11-30T22:57:14.156Z"
   },
   {
    "duration": 6,
    "start_time": "2023-11-30T22:57:14.171Z"
   },
   {
    "duration": 4,
    "start_time": "2023-11-30T22:57:14.179Z"
   },
   {
    "duration": 7,
    "start_time": "2023-11-30T22:57:14.185Z"
   },
   {
    "duration": 6,
    "start_time": "2023-11-30T22:57:14.193Z"
   },
   {
    "duration": 1376,
    "start_time": "2023-11-30T22:57:14.201Z"
   },
   {
    "duration": 4477,
    "start_time": "2023-11-30T22:57:15.579Z"
   },
   {
    "duration": 139,
    "start_time": "2023-11-30T22:57:20.058Z"
   },
   {
    "duration": 4,
    "start_time": "2023-11-30T22:57:55.021Z"
   },
   {
    "duration": 2,
    "start_time": "2023-11-30T22:57:56.087Z"
   },
   {
    "duration": 1370,
    "start_time": "2023-11-30T22:57:56.920Z"
   },
   {
    "duration": 3,
    "start_time": "2023-11-30T22:58:28.616Z"
   },
   {
    "duration": 3,
    "start_time": "2023-11-30T22:58:29.177Z"
   },
   {
    "duration": 1396,
    "start_time": "2023-11-30T22:58:29.609Z"
   },
   {
    "duration": 3,
    "start_time": "2023-11-30T22:58:40.878Z"
   },
   {
    "duration": 4,
    "start_time": "2023-11-30T22:58:41.303Z"
   },
   {
    "duration": 1254,
    "start_time": "2023-11-30T22:58:42.019Z"
   },
   {
    "duration": 4270,
    "start_time": "2023-11-30T23:10:11.390Z"
   },
   {
    "duration": 4276,
    "start_time": "2023-11-30T23:10:57.823Z"
   },
   {
    "duration": 4719,
    "start_time": "2023-11-30T23:11:20.166Z"
   },
   {
    "duration": 6,
    "start_time": "2023-11-30T23:13:24.282Z"
   },
   {
    "duration": 110,
    "start_time": "2023-11-30T23:16:48.529Z"
   },
   {
    "duration": 8,
    "start_time": "2023-11-30T23:16:54.717Z"
   },
   {
    "duration": 3490,
    "start_time": "2023-11-30T23:18:20.199Z"
   },
   {
    "duration": 206,
    "start_time": "2023-11-30T23:18:41.804Z"
   },
   {
    "duration": 2,
    "start_time": "2023-11-30T23:21:00.573Z"
   },
   {
    "duration": 44,
    "start_time": "2023-11-30T23:24:55.573Z"
   },
   {
    "duration": 3,
    "start_time": "2023-11-30T23:26:02.048Z"
   },
   {
    "duration": 734206,
    "start_time": "2023-11-30T23:26:02.691Z"
   },
   {
    "duration": 80,
    "start_time": "2023-11-30T23:53:05.607Z"
   },
   {
    "duration": 3689,
    "start_time": "2023-11-30T23:53:11.956Z"
   },
   {
    "duration": 6809,
    "start_time": "2023-11-30T23:53:43.186Z"
   },
   {
    "duration": 6911,
    "start_time": "2023-11-30T23:53:57.349Z"
   },
   {
    "duration": 6702,
    "start_time": "2023-11-30T23:55:23.302Z"
   },
   {
    "duration": 6861,
    "start_time": "2023-11-30T23:55:55.967Z"
   },
   {
    "duration": 6953,
    "start_time": "2023-11-30T23:56:42.686Z"
   },
   {
    "duration": 6809,
    "start_time": "2023-11-30T23:57:54.653Z"
   },
   {
    "duration": 7222,
    "start_time": "2023-11-30T23:58:12.946Z"
   },
   {
    "duration": 47,
    "start_time": "2023-12-01T00:00:03.902Z"
   },
   {
    "duration": 8,
    "start_time": "2023-12-01T00:00:15.373Z"
   },
   {
    "duration": 1290,
    "start_time": "2023-12-01T00:00:28.301Z"
   },
   {
    "duration": 65,
    "start_time": "2023-12-01T00:00:32.710Z"
   },
   {
    "duration": 19,
    "start_time": "2023-12-01T00:00:33.101Z"
   },
   {
    "duration": 8,
    "start_time": "2023-12-01T00:00:33.685Z"
   },
   {
    "duration": 15,
    "start_time": "2023-12-01T00:00:33.962Z"
   },
   {
    "duration": 33,
    "start_time": "2023-12-01T00:00:34.220Z"
   },
   {
    "duration": 1133,
    "start_time": "2023-12-01T00:00:34.481Z"
   },
   {
    "duration": 4,
    "start_time": "2023-12-01T00:00:35.616Z"
   },
   {
    "duration": 516,
    "start_time": "2023-12-01T00:00:35.621Z"
   },
   {
    "duration": 952,
    "start_time": "2023-12-01T00:00:36.138Z"
   },
   {
    "duration": 11,
    "start_time": "2023-12-01T00:00:37.092Z"
   },
   {
    "duration": 10,
    "start_time": "2023-12-01T00:00:37.105Z"
   },
   {
    "duration": 16,
    "start_time": "2023-12-01T00:00:37.117Z"
   },
   {
    "duration": 7,
    "start_time": "2023-12-01T00:00:37.135Z"
   },
   {
    "duration": 4,
    "start_time": "2023-12-01T00:00:37.642Z"
   },
   {
    "duration": 12,
    "start_time": "2023-12-01T00:00:37.958Z"
   },
   {
    "duration": 6,
    "start_time": "2023-12-01T00:00:38.394Z"
   },
   {
    "duration": 4,
    "start_time": "2023-12-01T00:00:39.424Z"
   },
   {
    "duration": 4,
    "start_time": "2023-12-01T00:00:40.695Z"
   },
   {
    "duration": 3,
    "start_time": "2023-12-01T00:00:41.129Z"
   },
   {
    "duration": 1376,
    "start_time": "2023-12-01T00:00:42.099Z"
   },
   {
    "duration": 4868,
    "start_time": "2023-12-01T00:00:43.486Z"
   },
   {
    "duration": 149,
    "start_time": "2023-12-01T00:00:48.651Z"
   },
   {
    "duration": 6561,
    "start_time": "2023-12-01T00:01:05.570Z"
   },
   {
    "duration": 5894,
    "start_time": "2023-12-01T00:02:20.702Z"
   },
   {
    "duration": 19014,
    "start_time": "2023-12-01T00:13:32.482Z"
   },
   {
    "duration": 6835,
    "start_time": "2023-12-01T20:56:56.533Z"
   },
   {
    "duration": 1442,
    "start_time": "2023-12-01T20:57:03.370Z"
   },
   {
    "duration": 99,
    "start_time": "2023-12-01T20:57:04.814Z"
   },
   {
    "duration": 14,
    "start_time": "2023-12-01T20:57:04.914Z"
   },
   {
    "duration": 8,
    "start_time": "2023-12-01T20:57:04.931Z"
   },
   {
    "duration": 15,
    "start_time": "2023-12-01T20:57:04.940Z"
   },
   {
    "duration": 36,
    "start_time": "2023-12-01T20:57:04.956Z"
   },
   {
    "duration": 1286,
    "start_time": "2023-12-01T20:57:04.993Z"
   },
   {
    "duration": 4,
    "start_time": "2023-12-01T20:57:06.281Z"
   },
   {
    "duration": 540,
    "start_time": "2023-12-01T20:57:06.286Z"
   },
   {
    "duration": 1138,
    "start_time": "2023-12-01T20:57:06.827Z"
   },
   {
    "duration": 10,
    "start_time": "2023-12-01T20:57:07.967Z"
   },
   {
    "duration": 8,
    "start_time": "2023-12-01T20:57:07.979Z"
   },
   {
    "duration": 11,
    "start_time": "2023-12-01T20:57:07.989Z"
   },
   {
    "duration": 6,
    "start_time": "2023-12-01T20:57:08.001Z"
   },
   {
    "duration": 14,
    "start_time": "2023-12-01T20:57:08.009Z"
   },
   {
    "duration": 20,
    "start_time": "2023-12-01T20:57:08.024Z"
   },
   {
    "duration": 14,
    "start_time": "2023-12-01T20:57:08.045Z"
   },
   {
    "duration": 5,
    "start_time": "2023-12-01T20:57:08.061Z"
   },
   {
    "duration": 12,
    "start_time": "2023-12-01T20:57:08.067Z"
   },
   {
    "duration": 4,
    "start_time": "2023-12-01T20:57:08.081Z"
   },
   {
    "duration": 1917,
    "start_time": "2023-12-01T20:57:08.086Z"
   },
   {
    "duration": 5620,
    "start_time": "2023-12-01T20:57:10.005Z"
   },
   {
    "duration": 163,
    "start_time": "2023-12-01T20:57:15.627Z"
   },
   {
    "duration": 20903,
    "start_time": "2023-12-01T20:59:41.109Z"
   },
   {
    "duration": 5,
    "start_time": "2023-12-01T21:21:32.852Z"
   },
   {
    "duration": 4,
    "start_time": "2023-12-01T21:23:59.842Z"
   },
   {
    "duration": 4,
    "start_time": "2023-12-01T21:49:50.789Z"
   },
   {
    "duration": 5,
    "start_time": "2023-12-01T21:50:12.675Z"
   },
   {
    "duration": 4,
    "start_time": "2023-12-01T21:51:05.570Z"
   },
   {
    "duration": 85,
    "start_time": "2023-12-01T21:51:33.307Z"
   },
   {
    "duration": 132,
    "start_time": "2023-12-01T21:51:41.282Z"
   },
   {
    "duration": 18,
    "start_time": "2023-12-01T21:52:26.036Z"
   },
   {
    "duration": 17,
    "start_time": "2023-12-01T21:53:08.178Z"
   },
   {
    "duration": 5,
    "start_time": "2023-12-01T21:54:08.247Z"
   },
   {
    "duration": 15,
    "start_time": "2023-12-01T21:54:08.879Z"
   },
   {
    "duration": 21,
    "start_time": "2023-12-01T21:54:22.845Z"
   },
   {
    "duration": 4,
    "start_time": "2023-12-01T21:54:31.693Z"
   },
   {
    "duration": 7,
    "start_time": "2023-12-01T22:09:44.818Z"
   },
   {
    "duration": 6,
    "start_time": "2023-12-01T22:10:19.415Z"
   },
   {
    "duration": 5,
    "start_time": "2023-12-01T22:17:55.534Z"
   },
   {
    "duration": 14,
    "start_time": "2023-12-01T22:17:56.062Z"
   },
   {
    "duration": 4,
    "start_time": "2023-12-01T22:18:01.741Z"
   },
   {
    "duration": 4,
    "start_time": "2023-12-01T22:18:58.738Z"
   },
   {
    "duration": 6,
    "start_time": "2023-12-01T22:19:05.834Z"
   },
   {
    "duration": 5,
    "start_time": "2023-12-01T22:19:06.218Z"
   },
   {
    "duration": 62,
    "start_time": "2023-12-01T22:20:27.632Z"
   },
   {
    "duration": 80,
    "start_time": "2023-12-01T22:21:35.185Z"
   },
   {
    "duration": 7960,
    "start_time": "2023-12-01T22:21:43.327Z"
   },
   {
    "duration": 5212,
    "start_time": "2023-12-01T22:22:12.224Z"
   },
   {
    "duration": 11,
    "start_time": "2023-12-01T22:35:18.343Z"
   },
   {
    "duration": 4,
    "start_time": "2023-12-01T22:35:21.154Z"
   },
   {
    "duration": 9,
    "start_time": "2023-12-01T22:35:21.530Z"
   },
   {
    "duration": 4,
    "start_time": "2023-12-01T22:35:36.578Z"
   },
   {
    "duration": 14,
    "start_time": "2023-12-01T22:35:37.075Z"
   },
   {
    "duration": 3,
    "start_time": "2023-12-01T22:35:45.771Z"
   },
   {
    "duration": 10,
    "start_time": "2023-12-01T22:36:11.736Z"
   },
   {
    "duration": 9,
    "start_time": "2023-12-01T22:36:28.286Z"
   },
   {
    "duration": 7,
    "start_time": "2023-12-01T22:36:47.735Z"
   },
   {
    "duration": 6,
    "start_time": "2023-12-01T22:36:48.445Z"
   },
   {
    "duration": 9569,
    "start_time": "2023-12-01T22:37:32.466Z"
   },
   {
    "duration": 9663,
    "start_time": "2023-12-01T22:37:51.854Z"
   },
   {
    "duration": 6912,
    "start_time": "2023-12-01T22:52:19.609Z"
   },
   {
    "duration": 172,
    "start_time": "2023-12-01T22:55:07.606Z"
   },
   {
    "duration": 24,
    "start_time": "2023-12-01T23:36:29.246Z"
   },
   {
    "duration": 857,
    "start_time": "2023-12-02T22:51:10.515Z"
   },
   {
    "duration": 6223,
    "start_time": "2023-12-02T22:51:16.593Z"
   },
   {
    "duration": 4,
    "start_time": "2023-12-02T22:51:24.522Z"
   },
   {
    "duration": 3,
    "start_time": "2023-12-02T22:51:28.347Z"
   },
   {
    "duration": 691,
    "start_time": "2023-12-02T22:51:37.124Z"
   },
   {
    "duration": 768,
    "start_time": "2023-12-02T22:52:12.762Z"
   },
   {
    "duration": 94,
    "start_time": "2023-12-02T22:52:40.016Z"
   },
   {
    "duration": 14,
    "start_time": "2023-12-02T22:52:40.921Z"
   },
   {
    "duration": 8,
    "start_time": "2023-12-02T22:52:43.426Z"
   },
   {
    "duration": 13,
    "start_time": "2023-12-02T22:52:51.483Z"
   },
   {
    "duration": 33,
    "start_time": "2023-12-02T22:52:52.487Z"
   },
   {
    "duration": 8,
    "start_time": "2023-12-02T22:55:22.065Z"
   },
   {
    "duration": 10,
    "start_time": "2023-12-02T22:55:42.355Z"
   },
   {
    "duration": 1078,
    "start_time": "2023-12-02T22:56:10.301Z"
   },
   {
    "duration": 7,
    "start_time": "2023-12-02T23:09:01.083Z"
   },
   {
    "duration": 6,
    "start_time": "2023-12-02T23:11:54.495Z"
   },
   {
    "duration": 7,
    "start_time": "2023-12-02T23:13:31.912Z"
   },
   {
    "duration": 6,
    "start_time": "2023-12-02T23:14:06.821Z"
   },
   {
    "duration": 921,
    "start_time": "2023-12-02T23:14:26.149Z"
   },
   {
    "duration": 1234,
    "start_time": "2023-12-02T23:16:28.136Z"
   },
   {
    "duration": 772,
    "start_time": "2023-12-02T23:16:39.288Z"
   },
   {
    "duration": 6323,
    "start_time": "2023-12-16T13:16:10.608Z"
   },
   {
    "duration": 670,
    "start_time": "2023-12-16T13:16:16.933Z"
   },
   {
    "duration": 770,
    "start_time": "2023-12-16T13:16:17.605Z"
   },
   {
    "duration": 90,
    "start_time": "2023-12-16T13:16:18.377Z"
   },
   {
    "duration": 12,
    "start_time": "2023-12-16T13:16:18.468Z"
   },
   {
    "duration": 7,
    "start_time": "2023-12-16T13:16:24.799Z"
   },
   {
    "duration": 12,
    "start_time": "2023-12-16T13:16:26.308Z"
   },
   {
    "duration": 33,
    "start_time": "2023-12-16T13:16:30.711Z"
   },
   {
    "duration": 660,
    "start_time": "2023-12-16T13:16:57.533Z"
   },
   {
    "duration": 7,
    "start_time": "2023-12-16T13:18:30.181Z"
   },
   {
    "duration": 109,
    "start_time": "2023-12-16T13:18:57.890Z"
   },
   {
    "duration": 11,
    "start_time": "2023-12-16T13:21:05.002Z"
   },
   {
    "duration": 11,
    "start_time": "2023-12-16T13:21:24.889Z"
   },
   {
    "duration": 10,
    "start_time": "2023-12-16T13:21:36.963Z"
   },
   {
    "duration": 132896,
    "start_time": "2023-12-16T13:28:10.898Z"
   },
   {
    "duration": 19197,
    "start_time": "2023-12-16T13:31:03.446Z"
   },
   {
    "duration": 189479,
    "start_time": "2023-12-16T13:31:37.917Z"
   },
   {
    "duration": 4,
    "start_time": "2023-12-16T13:35:43.870Z"
   },
   {
    "duration": 91,
    "start_time": "2023-12-16T13:36:15.281Z"
   },
   {
    "duration": 97,
    "start_time": "2023-12-16T13:36:58.573Z"
   },
   {
    "duration": 91,
    "start_time": "2023-12-16T13:37:13.751Z"
   },
   {
    "duration": 15,
    "start_time": "2023-12-16T13:42:31.529Z"
   },
   {
    "duration": 13,
    "start_time": "2023-12-16T13:42:48.248Z"
   },
   {
    "duration": 157,
    "start_time": "2023-12-16T13:43:07.899Z"
   },
   {
    "duration": 186,
    "start_time": "2023-12-16T13:43:54.548Z"
   },
   {
    "duration": 165,
    "start_time": "2023-12-16T13:44:07.846Z"
   },
   {
    "duration": 211,
    "start_time": "2023-12-16T13:44:16.050Z"
   },
   {
    "duration": 192,
    "start_time": "2023-12-16T13:44:24.991Z"
   },
   {
    "duration": 177,
    "start_time": "2023-12-16T13:44:29.992Z"
   },
   {
    "duration": 204,
    "start_time": "2023-12-16T13:44:41.487Z"
   },
   {
    "duration": 84,
    "start_time": "2023-12-16T13:45:20.653Z"
   },
   {
    "duration": 209,
    "start_time": "2023-12-16T13:45:26.545Z"
   },
   {
    "duration": 180,
    "start_time": "2023-12-16T13:46:25.177Z"
   },
   {
    "duration": 169,
    "start_time": "2023-12-16T13:46:31.613Z"
   },
   {
    "duration": 181,
    "start_time": "2023-12-16T13:46:39.453Z"
   },
   {
    "duration": 174,
    "start_time": "2023-12-16T13:46:44.405Z"
   },
   {
    "duration": 182,
    "start_time": "2023-12-16T13:47:56.203Z"
   },
   {
    "duration": 186,
    "start_time": "2023-12-16T13:50:38.494Z"
   },
   {
    "duration": 4,
    "start_time": "2023-12-16T13:51:47.694Z"
   },
   {
    "duration": 182,
    "start_time": "2023-12-16T13:52:22.268Z"
   },
   {
    "duration": 178,
    "start_time": "2023-12-16T13:54:57.741Z"
   },
   {
    "duration": 197,
    "start_time": "2023-12-16T13:55:45.346Z"
   },
   {
    "duration": 195,
    "start_time": "2023-12-16T13:55:51.588Z"
   },
   {
    "duration": 168,
    "start_time": "2023-12-16T13:56:33.131Z"
   },
   {
    "duration": 185,
    "start_time": "2023-12-16T13:57:48.976Z"
   },
   {
    "duration": 190,
    "start_time": "2023-12-16T13:58:05.608Z"
   },
   {
    "duration": 173,
    "start_time": "2023-12-16T13:58:24.470Z"
   },
   {
    "duration": 202,
    "start_time": "2023-12-16T13:58:36.970Z"
   },
   {
    "duration": 193,
    "start_time": "2023-12-16T13:58:44.485Z"
   },
   {
    "duration": 168,
    "start_time": "2023-12-16T13:58:54.083Z"
   },
   {
    "duration": 185,
    "start_time": "2023-12-16T13:59:30.340Z"
   },
   {
    "duration": 181,
    "start_time": "2023-12-16T13:59:36.449Z"
   },
   {
    "duration": 994,
    "start_time": "2023-12-16T14:06:21.188Z"
   },
   {
    "duration": 6,
    "start_time": "2023-12-16T14:23:58.154Z"
   },
   {
    "duration": 4,
    "start_time": "2023-12-16T14:24:13.603Z"
   },
   {
    "duration": 113,
    "start_time": "2023-12-16T14:24:14.605Z"
   },
   {
    "duration": 108,
    "start_time": "2023-12-16T14:25:34.311Z"
   },
   {
    "duration": 19,
    "start_time": "2023-12-16T14:29:21.286Z"
   },
   {
    "duration": 5,
    "start_time": "2023-12-16T14:29:42.759Z"
   },
   {
    "duration": 13,
    "start_time": "2023-12-16T14:29:57.209Z"
   },
   {
    "duration": 12,
    "start_time": "2023-12-16T14:30:10.954Z"
   },
   {
    "duration": 11,
    "start_time": "2023-12-16T14:30:56.255Z"
   },
   {
    "duration": 4,
    "start_time": "2023-12-16T14:31:07.966Z"
   },
   {
    "duration": 10,
    "start_time": "2023-12-16T15:40:04.901Z"
   },
   {
    "duration": 6,
    "start_time": "2023-12-16T15:40:06.507Z"
   },
   {
    "duration": 4,
    "start_time": "2023-12-16T15:47:44.243Z"
   },
   {
    "duration": 6,
    "start_time": "2023-12-16T15:53:39.794Z"
   },
   {
    "duration": 4,
    "start_time": "2023-12-16T15:54:11.689Z"
   },
   {
    "duration": 3,
    "start_time": "2023-12-16T15:54:12.191Z"
   },
   {
    "duration": 1538,
    "start_time": "2023-12-16T15:54:12.774Z"
   },
   {
    "duration": 4,
    "start_time": "2023-12-16T15:55:21.969Z"
   },
   {
    "duration": 3,
    "start_time": "2023-12-16T15:55:22.376Z"
   },
   {
    "duration": 1585,
    "start_time": "2023-12-16T15:55:22.831Z"
   },
   {
    "duration": 14,
    "start_time": "2023-12-16T17:00:02.607Z"
   },
   {
    "duration": 19,
    "start_time": "2023-12-16T17:00:56.019Z"
   },
   {
    "duration": 11,
    "start_time": "2023-12-16T17:01:24.942Z"
   },
   {
    "duration": 4,
    "start_time": "2023-12-16T17:01:34.411Z"
   },
   {
    "duration": 4,
    "start_time": "2023-12-16T17:01:40.519Z"
   },
   {
    "duration": 4,
    "start_time": "2023-12-16T17:01:41.660Z"
   },
   {
    "duration": 1347,
    "start_time": "2023-12-16T17:01:42.177Z"
   },
   {
    "duration": 4348,
    "start_time": "2023-12-16T17:10:09.586Z"
   },
   {
    "duration": 4388,
    "start_time": "2023-12-16T17:12:32.655Z"
   },
   {
    "duration": 190,
    "start_time": "2023-12-16T17:33:42.495Z"
   },
   {
    "duration": 11,
    "start_time": "2023-12-16T17:55:47.002Z"
   },
   {
    "duration": 17666,
    "start_time": "2023-12-16T17:56:13.775Z"
   },
   {
    "duration": 4,
    "start_time": "2023-12-16T17:59:04.191Z"
   },
   {
    "duration": 12,
    "start_time": "2023-12-16T17:59:05.613Z"
   },
   {
    "duration": 48,
    "start_time": "2023-12-16T17:59:06.431Z"
   },
   {
    "duration": 46,
    "start_time": "2023-12-16T17:59:29.511Z"
   },
   {
    "duration": 53,
    "start_time": "2023-12-16T18:45:11.487Z"
   },
   {
    "duration": 60,
    "start_time": "2023-12-16T18:47:00.321Z"
   },
   {
    "duration": 61,
    "start_time": "2023-12-16T18:49:04.647Z"
   },
   {
    "duration": 135,
    "start_time": "2023-12-16T18:49:21.567Z"
   },
   {
    "duration": 66,
    "start_time": "2023-12-16T18:49:29.235Z"
   },
   {
    "duration": 10,
    "start_time": "2023-12-16T18:52:10.883Z"
   },
   {
    "duration": 2,
    "start_time": "2023-12-16T18:52:54.210Z"
   },
   {
    "duration": 140,
    "start_time": "2023-12-16T18:52:55.613Z"
   },
   {
    "duration": 68,
    "start_time": "2023-12-16T18:55:47.818Z"
   },
   {
    "duration": 80,
    "start_time": "2023-12-16T18:59:01.409Z"
   },
   {
    "duration": 66,
    "start_time": "2023-12-16T18:59:32.381Z"
   },
   {
    "duration": 70,
    "start_time": "2023-12-16T19:00:10.236Z"
   },
   {
    "duration": 68,
    "start_time": "2023-12-16T19:00:26.080Z"
   },
   {
    "duration": 67,
    "start_time": "2023-12-16T19:00:39.667Z"
   },
   {
    "duration": 3711,
    "start_time": "2023-12-16T20:19:51.095Z"
   },
   {
    "duration": 4,
    "start_time": "2023-12-16T20:21:56.870Z"
   },
   {
    "duration": 14,
    "start_time": "2023-12-16T20:21:57.247Z"
   },
   {
    "duration": 3,
    "start_time": "2023-12-16T20:21:57.833Z"
   },
   {
    "duration": 69,
    "start_time": "2023-12-16T20:21:58.441Z"
   },
   {
    "duration": 3954,
    "start_time": "2023-12-16T20:22:00.638Z"
   },
   {
    "duration": 4,
    "start_time": "2023-12-16T20:31:29.910Z"
   },
   {
    "duration": 12,
    "start_time": "2023-12-16T20:31:30.365Z"
   },
   {
    "duration": 6744,
    "start_time": "2023-12-16T20:31:30.860Z"
   },
   {
    "duration": 5,
    "start_time": "2023-12-16T20:34:31.708Z"
   },
   {
    "duration": 3,
    "start_time": "2023-12-16T20:35:02.084Z"
   },
   {
    "duration": 65,
    "start_time": "2023-12-16T20:35:02.400Z"
   },
   {
    "duration": 65,
    "start_time": "2023-12-16T20:35:41.795Z"
   },
   {
    "duration": 72,
    "start_time": "2023-12-16T20:36:27.643Z"
   },
   {
    "duration": 6664,
    "start_time": "2023-12-16T20:37:18.715Z"
   },
   {
    "duration": 5585,
    "start_time": "2023-12-16T20:45:04.942Z"
   },
   {
    "duration": 5605,
    "start_time": "2023-12-16T20:45:41.873Z"
   },
   {
    "duration": 166,
    "start_time": "2023-12-16T20:48:46.109Z"
   }
  ],
  "kernelspec": {
   "display_name": "Python 3 (ipykernel)",
   "language": "python",
   "name": "python3"
  },
  "language_info": {
   "codemirror_mode": {
    "name": "ipython",
    "version": 3
   },
   "file_extension": ".py",
   "mimetype": "text/x-python",
   "name": "python",
   "nbconvert_exporter": "python",
   "pygments_lexer": "ipython3",
   "version": "3.10.13"
  },
  "toc": {
   "base_numbering": 1,
   "nav_menu": {},
   "number_sections": true,
   "sideBar": true,
   "skip_h1_title": true,
   "title_cell": "Содержание",
   "title_sidebar": "Contents",
   "toc_cell": true,
   "toc_position": {
    "height": "calc(100% - 180px)",
    "left": "10px",
    "top": "150px",
    "width": "165px"
   },
   "toc_section_display": true,
   "toc_window_display": false
  }
 },
 "nbformat": 4,
 "nbformat_minor": 2
}
